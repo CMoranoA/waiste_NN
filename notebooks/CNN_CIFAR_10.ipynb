{
  "nbformat": 4,
  "nbformat_minor": 5,
  "metadata": {
    "colab": {
      "name": "CNN_CIFAR-10.ipynb",
      "provenance": []
    },
    "kernelspec": {
      "display_name": "Python 3 (ipykernel)",
      "language": "python",
      "name": "python3"
    },
    "language_info": {
      "codemirror_mode": {
        "name": "ipython",
        "version": 3
      },
      "file_extension": ".py",
      "mimetype": "text/x-python",
      "name": "python",
      "nbconvert_exporter": "python",
      "pygments_lexer": "ipython3",
      "version": "3.8.6"
    },
    "toc": {
      "base_numbering": 1,
      "nav_menu": {},
      "number_sections": true,
      "sideBar": true,
      "skip_h1_title": false,
      "title_cell": "Table of Contents",
      "title_sidebar": "Contents",
      "toc_cell": false,
      "toc_position": {},
      "toc_section_display": true,
      "toc_window_display": false
    }
  },
  "cells": [
    {
      "cell_type": "code",
      "metadata": {
        "id": "b1c71244"
      },
      "source": [
        "from tensorflow.keras.utils import image_dataset_from_directory\n",
        "import tensorflow as tf\n",
        "import numpy as np"
      ],
      "id": "b1c71244",
      "execution_count": 2,
      "outputs": []
    },
    {
      "cell_type": "code",
      "metadata": {
        "colab": {
          "base_uri": "https://localhost:8080/"
        },
        "id": "Ktt8RHRGVLyb",
        "outputId": "d5cde54a-cab0-41aa-cfc6-0223f3e644a3"
      },
      "source": [
        "from google.colab import drive\n",
        "drive.mount('/content/gdrive')"
      ],
      "id": "Ktt8RHRGVLyb",
      "execution_count": 3,
      "outputs": [
        {
          "output_type": "stream",
          "name": "stdout",
          "text": [
            "Drive already mounted at /content/gdrive; to attempt to forcibly remount, call drive.mount(\"/content/gdrive\", force_remount=True).\n"
          ]
        }
      ]
    },
    {
      "cell_type": "code",
      "metadata": {
        "colab": {
          "base_uri": "https://localhost:8080/"
        },
        "id": "20f46146",
        "outputId": "611d6b6a-88c6-4c51-919b-350af1c5aea4"
      },
      "source": [
        "data = image_dataset_from_directory(\"gdrive/MyDrive/waiste data\", \n",
        "                             labels='inferred', label_mode='categorical', class_names=None, color_mode='rgb',\n",
        "                             batch_size=32, image_size=(32, 32), shuffle=True, seed=None,\n",
        "                             validation_split=None, subset=None, interpolation='bilinear', follow_links=False,\n",
        "                             crop_to_aspect_ratio=False)"
      ],
      "id": "20f46146",
      "execution_count": 4,
      "outputs": [
        {
          "output_type": "stream",
          "name": "stdout",
          "text": [
            "Found 22610 files belonging to 10 classes.\n"
          ]
        }
      ]
    },
    {
      "cell_type": "code",
      "metadata": {
        "id": "eqALL8sB7QeV"
      },
      "source": [
        "def process(image,label):\n",
        "    image = tf.cast(image/255. ,tf.float32)\n",
        "    return image,label\n",
        "\n",
        "data_norm = data.map(process)"
      ],
      "id": "eqALL8sB7QeV",
      "execution_count": 5,
      "outputs": []
    },
    {
      "cell_type": "code",
      "metadata": {
        "id": "AG785DigkIMA"
      },
      "source": [
        "data_sample = data.take(50)\n",
        "\n",
        "data_im = []\n",
        "data_lb = []\n",
        "\n",
        "for im, lb in data_sample:\n",
        "  data_im.append(im)\n",
        "  data_lb.append(lb)"
      ],
      "id": "AG785DigkIMA",
      "execution_count": 6,
      "outputs": []
    },
    {
      "cell_type": "code",
      "metadata": {
        "id": "ZjxpxXFwCeZg"
      },
      "source": [
        "def norma_2(image):\n",
        "  image = tf.cast(image/255, tf.float32)\n",
        "  return image"
      ],
      "id": "ZjxpxXFwCeZg",
      "execution_count": 21,
      "outputs": []
    },
    {
      "cell_type": "code",
      "metadata": {
        "id": "o_YeeN3SDjop"
      },
      "source": [
        "data_im_2 = [norma_2(image) for image in data_im]"
      ],
      "id": "o_YeeN3SDjop",
      "execution_count": 22,
      "outputs": []
    },
    {
      "cell_type": "code",
      "metadata": {
        "id": "Nlmt2V1LD839"
      },
      "source": [
        "data_im_2 = np.array(data_im_2)\n",
        "data_lb = np.array(data_lb)"
      ],
      "id": "Nlmt2V1LD839",
      "execution_count": 23,
      "outputs": []
    },
    {
      "cell_type": "code",
      "metadata": {
        "id": "7TDmw5OqFT5c"
      },
      "source": [
        "data_im_2 = data_im_2.reshape(-1, 32, 32, 3)\n",
        "data_lb = data_lb.reshape(-1, 10)"
      ],
      "id": "7TDmw5OqFT5c",
      "execution_count": 24,
      "outputs": []
    },
    {
      "cell_type": "code",
      "metadata": {
        "id": "rFoYaHkC_TUN"
      },
      "source": [
        "import sys\n",
        "from matplotlib import pyplot\n",
        "from tensorflow.keras.utils import to_categorical\n",
        "from tensorflow.keras.models import Sequential\n",
        "from tensorflow.keras.layers import Conv2D\n",
        "from tensorflow.keras.layers import MaxPooling2D\n",
        "from tensorflow.keras.layers import Dense\n",
        "from tensorflow.keras.layers import Flatten\n",
        "from tensorflow.keras.optimizers import SGD\n",
        "from tensorflow.keras.preprocessing.image import ImageDataGenerator\n",
        "from tensorflow.keras.layers import Dropout\n",
        "from tensorflow.keras.layers import BatchNormalization\n",
        "from tensorflow.keras.callbacks import EarlyStopping\n",
        " "
      ],
      "id": "rFoYaHkC_TUN",
      "execution_count": 33,
      "outputs": []
    },
    {
      "cell_type": "code",
      "metadata": {
        "id": "XhOFwTlUAF1h"
      },
      "source": [
        "def define_model():\n",
        "  model = Sequential()\n",
        "  model.add(Conv2D(32, (3, 3), activation='relu', kernel_initializer='he_uniform', padding='same', input_shape=(32, 32, 3)))\n",
        "  model.add(BatchNormalization())\n",
        "  model.add(Conv2D(32, (3, 3), activation='relu', kernel_initializer='he_uniform', padding='same'))\n",
        "  model.add(BatchNormalization())\n",
        "  model.add(MaxPooling2D((2, 2)))\n",
        "  model.add(Dropout(0.2))\n",
        "  model.add(Conv2D(64, (3, 3), activation='relu', kernel_initializer='he_uniform', padding='same'))\n",
        "  model.add(BatchNormalization())\n",
        "  model.add(Conv2D(64, (3, 3), activation='relu', kernel_initializer='he_uniform', padding='same'))\n",
        "  model.add(BatchNormalization())\n",
        "  model.add(MaxPooling2D((2, 2)))\n",
        "  model.add(Dropout(0.3))\n",
        "  model.add(Conv2D(128, (3, 3), activation='relu', kernel_initializer='he_uniform', padding='same'))\n",
        "  model.add(BatchNormalization())\n",
        "  model.add(Conv2D(128, (3, 3), activation='relu', kernel_initializer='he_uniform', padding='same'))\n",
        "  model.add(BatchNormalization())\n",
        "  model.add(MaxPooling2D((2, 2)))\n",
        "  model.add(Dropout(0.4))\n",
        "  model.add(Flatten())\n",
        "  model.add(Dense(128, activation='relu', kernel_initializer='he_uniform'))\n",
        "  model.add(BatchNormalization())\n",
        "  model.add(Dropout(0.5))\n",
        "  model.add(Dense(10, activation='softmax'))\n",
        "  # compile model\n",
        "  opt = SGD(learning_rate=0.001, momentum=0.9)\n",
        "  model.compile(optimizer=opt, loss='categorical_crossentropy', metrics=['accuracy'])\n",
        "  return model"
      ],
      "id": "XhOFwTlUAF1h",
      "execution_count": 34,
      "outputs": []
    },
    {
      "cell_type": "code",
      "metadata": {
        "id": "Bv8W3L9FG9si"
      },
      "source": [
        "from tensorflow.keras.callbacks import EarlyStopping\n",
        "es = EarlyStopping(monitor=\"val_loss\", patience = 10, restore_best_weights = True)"
      ],
      "id": "Bv8W3L9FG9si",
      "execution_count": 57,
      "outputs": []
    },
    {
      "cell_type": "code",
      "metadata": {
        "id": "Dse0m5ZArNqd"
      },
      "source": [
        "model = define_model()"
      ],
      "id": "Dse0m5ZArNqd",
      "execution_count": 60,
      "outputs": []
    },
    {
      "cell_type": "code",
      "metadata": {
        "colab": {
          "base_uri": "https://localhost:8080/"
        },
        "id": "bxHaMc3NqyJb",
        "outputId": "6f2ec3f5-ed8b-4a6f-e822-a50c6a86d84b"
      },
      "source": [
        "history = model.fit(data_im_2, data_lb, epochs=100, validation_split = 0.2, verbose=1, callbacks = [es])"
      ],
      "id": "bxHaMc3NqyJb",
      "execution_count": 61,
      "outputs": [
        {
          "output_type": "stream",
          "name": "stdout",
          "text": [
            "Epoch 1/100\n",
            "40/40 [==============================] - 12s 270ms/step - loss: 3.1495 - accuracy: 0.1516 - val_loss: 2.3225 - val_accuracy: 0.1437\n",
            "Epoch 2/100\n",
            "40/40 [==============================] - 11s 263ms/step - loss: 2.8363 - accuracy: 0.2031 - val_loss: 2.3810 - val_accuracy: 0.1375\n",
            "Epoch 3/100\n",
            "40/40 [==============================] - 11s 263ms/step - loss: 2.5156 - accuracy: 0.2398 - val_loss: 2.3982 - val_accuracy: 0.2250\n",
            "Epoch 4/100\n",
            "40/40 [==============================] - 11s 263ms/step - loss: 2.3420 - accuracy: 0.2875 - val_loss: 2.4668 - val_accuracy: 0.2000\n",
            "Epoch 5/100\n",
            "40/40 [==============================] - 10s 262ms/step - loss: 2.1465 - accuracy: 0.3273 - val_loss: 2.3921 - val_accuracy: 0.2062\n",
            "Epoch 6/100\n",
            "40/40 [==============================] - 11s 263ms/step - loss: 2.0826 - accuracy: 0.3289 - val_loss: 2.2452 - val_accuracy: 0.2969\n",
            "Epoch 7/100\n",
            "40/40 [==============================] - 11s 263ms/step - loss: 2.0175 - accuracy: 0.3438 - val_loss: 2.1604 - val_accuracy: 0.2625\n",
            "Epoch 8/100\n",
            "40/40 [==============================] - 11s 264ms/step - loss: 1.9624 - accuracy: 0.3422 - val_loss: 2.0244 - val_accuracy: 0.3031\n",
            "Epoch 9/100\n",
            "40/40 [==============================] - 11s 263ms/step - loss: 1.8788 - accuracy: 0.3922 - val_loss: 1.9648 - val_accuracy: 0.3375\n",
            "Epoch 10/100\n",
            "40/40 [==============================] - 10s 262ms/step - loss: 1.8635 - accuracy: 0.3734 - val_loss: 1.9033 - val_accuracy: 0.3187\n",
            "Epoch 11/100\n",
            "40/40 [==============================] - 10s 263ms/step - loss: 1.7399 - accuracy: 0.4172 - val_loss: 1.7566 - val_accuracy: 0.3812\n",
            "Epoch 12/100\n",
            "40/40 [==============================] - 12s 295ms/step - loss: 1.7621 - accuracy: 0.4047 - val_loss: 1.7231 - val_accuracy: 0.4281\n",
            "Epoch 13/100\n",
            "40/40 [==============================] - 11s 263ms/step - loss: 1.7134 - accuracy: 0.4094 - val_loss: 1.6358 - val_accuracy: 0.4156\n",
            "Epoch 14/100\n",
            "40/40 [==============================] - 11s 263ms/step - loss: 1.6561 - accuracy: 0.4469 - val_loss: 1.7109 - val_accuracy: 0.4156\n",
            "Epoch 15/100\n",
            "40/40 [==============================] - 11s 263ms/step - loss: 1.6815 - accuracy: 0.4055 - val_loss: 1.5733 - val_accuracy: 0.4406\n",
            "Epoch 16/100\n",
            "40/40 [==============================] - 10s 262ms/step - loss: 1.6403 - accuracy: 0.4227 - val_loss: 1.5566 - val_accuracy: 0.4625\n",
            "Epoch 17/100\n",
            "40/40 [==============================] - 10s 262ms/step - loss: 1.6454 - accuracy: 0.4344 - val_loss: 1.5046 - val_accuracy: 0.4906\n",
            "Epoch 18/100\n",
            "40/40 [==============================] - 11s 263ms/step - loss: 1.5676 - accuracy: 0.4383 - val_loss: 1.5119 - val_accuracy: 0.4656\n",
            "Epoch 19/100\n",
            "40/40 [==============================] - 11s 264ms/step - loss: 1.5580 - accuracy: 0.4633 - val_loss: 1.5469 - val_accuracy: 0.4688\n",
            "Epoch 20/100\n",
            "40/40 [==============================] - 11s 264ms/step - loss: 1.5082 - accuracy: 0.4773 - val_loss: 1.4998 - val_accuracy: 0.4563\n",
            "Epoch 21/100\n",
            "40/40 [==============================] - 11s 264ms/step - loss: 1.5140 - accuracy: 0.4570 - val_loss: 1.5501 - val_accuracy: 0.4625\n",
            "Epoch 22/100\n",
            "40/40 [==============================] - 11s 263ms/step - loss: 1.5003 - accuracy: 0.4781 - val_loss: 1.4847 - val_accuracy: 0.4844\n",
            "Epoch 23/100\n",
            "40/40 [==============================] - 11s 264ms/step - loss: 1.5021 - accuracy: 0.4758 - val_loss: 1.4862 - val_accuracy: 0.4750\n",
            "Epoch 24/100\n",
            "40/40 [==============================] - 11s 263ms/step - loss: 1.4498 - accuracy: 0.4977 - val_loss: 1.4908 - val_accuracy: 0.4719\n",
            "Epoch 25/100\n",
            "40/40 [==============================] - 11s 264ms/step - loss: 1.4553 - accuracy: 0.5008 - val_loss: 1.5038 - val_accuracy: 0.4875\n",
            "Epoch 26/100\n",
            "40/40 [==============================] - 11s 263ms/step - loss: 1.4307 - accuracy: 0.4992 - val_loss: 1.4384 - val_accuracy: 0.4906\n",
            "Epoch 27/100\n",
            "40/40 [==============================] - 10s 263ms/step - loss: 1.4246 - accuracy: 0.5211 - val_loss: 1.4259 - val_accuracy: 0.5031\n",
            "Epoch 28/100\n",
            "40/40 [==============================] - 10s 263ms/step - loss: 1.4385 - accuracy: 0.4836 - val_loss: 1.4405 - val_accuracy: 0.4844\n",
            "Epoch 29/100\n",
            "40/40 [==============================] - 11s 264ms/step - loss: 1.3861 - accuracy: 0.5148 - val_loss: 1.3968 - val_accuracy: 0.5219\n",
            "Epoch 30/100\n",
            "40/40 [==============================] - 11s 264ms/step - loss: 1.3517 - accuracy: 0.5297 - val_loss: 1.4809 - val_accuracy: 0.4719\n",
            "Epoch 31/100\n",
            "40/40 [==============================] - 11s 265ms/step - loss: 1.3367 - accuracy: 0.5289 - val_loss: 1.4581 - val_accuracy: 0.4812\n",
            "Epoch 32/100\n",
            "40/40 [==============================] - 11s 264ms/step - loss: 1.3629 - accuracy: 0.5289 - val_loss: 1.5839 - val_accuracy: 0.4313\n",
            "Epoch 33/100\n",
            "40/40 [==============================] - 11s 264ms/step - loss: 1.3593 - accuracy: 0.5258 - val_loss: 1.4131 - val_accuracy: 0.4938\n",
            "Epoch 34/100\n",
            "40/40 [==============================] - 11s 264ms/step - loss: 1.3191 - accuracy: 0.5352 - val_loss: 1.3676 - val_accuracy: 0.5312\n",
            "Epoch 35/100\n",
            "40/40 [==============================] - 11s 264ms/step - loss: 1.2917 - accuracy: 0.5578 - val_loss: 1.4047 - val_accuracy: 0.4938\n",
            "Epoch 36/100\n",
            "40/40 [==============================] - 11s 263ms/step - loss: 1.2611 - accuracy: 0.5531 - val_loss: 1.3479 - val_accuracy: 0.5250\n",
            "Epoch 37/100\n",
            "40/40 [==============================] - 11s 264ms/step - loss: 1.2528 - accuracy: 0.5672 - val_loss: 1.3662 - val_accuracy: 0.5312\n",
            "Epoch 38/100\n",
            "40/40 [==============================] - 10s 262ms/step - loss: 1.2868 - accuracy: 0.5539 - val_loss: 1.4077 - val_accuracy: 0.4938\n",
            "Epoch 39/100\n",
            "40/40 [==============================] - 10s 263ms/step - loss: 1.2475 - accuracy: 0.5562 - val_loss: 1.3824 - val_accuracy: 0.5063\n",
            "Epoch 40/100\n",
            "40/40 [==============================] - 11s 264ms/step - loss: 1.2070 - accuracy: 0.5797 - val_loss: 1.3995 - val_accuracy: 0.5031\n",
            "Epoch 41/100\n",
            "40/40 [==============================] - 11s 263ms/step - loss: 1.2278 - accuracy: 0.5695 - val_loss: 1.3852 - val_accuracy: 0.5156\n",
            "Epoch 42/100\n",
            "40/40 [==============================] - 11s 264ms/step - loss: 1.2141 - accuracy: 0.5711 - val_loss: 1.4300 - val_accuracy: 0.5125\n",
            "Epoch 43/100\n",
            "40/40 [==============================] - 11s 265ms/step - loss: 1.2333 - accuracy: 0.5688 - val_loss: 1.5255 - val_accuracy: 0.4594\n",
            "Epoch 44/100\n",
            "40/40 [==============================] - 11s 264ms/step - loss: 1.2449 - accuracy: 0.5680 - val_loss: 1.4251 - val_accuracy: 0.5063\n",
            "Epoch 45/100\n",
            "40/40 [==============================] - 11s 265ms/step - loss: 1.1943 - accuracy: 0.5805 - val_loss: 1.4627 - val_accuracy: 0.4969\n",
            "Epoch 46/100\n",
            "40/40 [==============================] - 11s 265ms/step - loss: 1.1651 - accuracy: 0.5984 - val_loss: 1.4015 - val_accuracy: 0.5125\n"
          ]
        }
      ]
    },
    {
      "cell_type": "code",
      "metadata": {
        "id": "q80-3kdwdiBT"
      },
      "source": [
        "def summarize_diagnostics(history):\n",
        "  # plot loss\n",
        "  pyplot.subplot(211)\n",
        "  pyplot.title('Cross Entropy Loss')\n",
        "  pyplot.plot(history.history['loss'], color='blue', label='train')\n",
        "  pyplot.plot(history.history['val_loss'], color='orange', label='test')\n",
        "  # plot accuracy\n",
        "  pyplot.subplot(212)\n",
        "  pyplot.title('Classification Accuracy')\n",
        "  pyplot.plot(history.history['accuracy'], color='blue', label='train')\n",
        "  pyplot.plot(history.history['val_accuracy'], color='orange', label='test')"
      ],
      "id": "q80-3kdwdiBT",
      "execution_count": 62,
      "outputs": []
    },
    {
      "cell_type": "code",
      "metadata": {
        "colab": {
          "base_uri": "https://localhost:8080/",
          "height": 281
        },
        "id": "yp-m1mG0mGcd",
        "outputId": "251701fb-55f6-4f4a-b70c-7ff0d3d8eb26"
      },
      "source": [
        "summarize_diagnostics(history)"
      ],
      "id": "yp-m1mG0mGcd",
      "execution_count": 63,
      "outputs": [
        {
          "output_type": "display_data",
          "data": {
            "image/png": "[encoded data removed]",
            "text/plain": [
              "<Figure size 432x288 with 2 Axes>"
            ]
          },
          "metadata": {
            "needs_background": "light"
          }
        }
      ]
    },
    {
      "cell_type": "code",
      "metadata": {
        "id": "U-W1cu2etNMG"
      },
      "source": [
        ""
      ],
      "id": "U-W1cu2etNMG",
      "execution_count": null,
      "outputs": []
    }
  ]
}