{
  "nbformat": 4,
  "nbformat_minor": 5,
  "metadata": {
    "colab": {
      "name": "InceptionResNetV2.ipynb",
      "provenance": []
    },
    "kernelspec": {
      "display_name": "Python 3 (ipykernel)",
      "language": "python",
      "name": "python3"
    },
    "language_info": {
      "codemirror_mode": {
        "name": "ipython",
        "version": 3
      },
      "file_extension": ".py",
      "mimetype": "text/x-python",
      "name": "python",
      "nbconvert_exporter": "python",
      "pygments_lexer": "ipython3",
      "version": "3.8.6"
    },
    "toc": {
      "base_numbering": 1,
      "nav_menu": {},
      "number_sections": true,
      "sideBar": true,
      "skip_h1_title": false,
      "title_cell": "Table of Contents",
      "title_sidebar": "Contents",
      "toc_cell": false,
      "toc_position": {},
      "toc_section_display": true,
      "toc_window_display": false
    }
  },
  "cells": [
    {
      "cell_type": "code",
      "metadata": {
        "id": "b1c71244"
      },
      "source": [
        "from tensorflow.keras.utils import image_dataset_from_directory\n",
        "import tensorflow as tf\n",
        "import numpy as np"
      ],
      "id": "b1c71244",
      "execution_count": 1,
      "outputs": []
    },
    {
      "cell_type": "code",
      "metadata": {
        "colab": {
          "base_uri": "https://localhost:8080/"
        },
        "id": "Ktt8RHRGVLyb",
        "outputId": "dd9dc002-0c93-4143-b043-682c8ab425bd"
      },
      "source": [
        "from google.colab import drive\n",
        "drive.mount('/content/gdrive')"
      ],
      "id": "Ktt8RHRGVLyb",
      "execution_count": 3,
      "outputs": [
        {
          "output_type": "stream",
          "name": "stdout",
          "text": [
            "Mounted at /content/gdrive\n"
          ]
        }
      ]
    },
    {
      "cell_type": "code",
      "metadata": {
        "colab": {
          "base_uri": "https://localhost:8080/"
        },
        "id": "20f46146",
        "outputId": "ab490dc3-bfbe-4a0a-9bb0-d71a438f171c"
      },
      "source": [
        "data = image_dataset_from_directory(\"gdrive/MyDrive/waiste data\", \n",
        "                             labels='inferred', label_mode='categorical', class_names=None, color_mode='rgb',\n",
        "                             batch_size=32, image_size=(150, 150), shuffle=True, seed=None,\n",
        "                             validation_split=None, subset=None, interpolation='bilinear', follow_links=False,\n",
        "                             crop_to_aspect_ratio=False)"
      ],
      "id": "20f46146",
      "execution_count": 4,
      "outputs": [
        {
          "output_type": "stream",
          "name": "stdout",
          "text": [
            "Found 22610 files belonging to 10 classes.\n"
          ]
        }
      ]
    },
    {
      "cell_type": "code",
      "metadata": {
        "id": "eqALL8sB7QeV"
      },
      "source": [
        "def process(image,label):\n",
        "    image = tf.cast(image/255. ,tf.float32)\n",
        "    return image,label\n",
        "\n",
        "data_norm = data.map(process)"
      ],
      "id": "eqALL8sB7QeV",
      "execution_count": 5,
      "outputs": []
    },
    {
      "cell_type": "code",
      "metadata": {
        "id": "AG785DigkIMA"
      },
      "source": [
        "data_sample = data.take(100)\n",
        "\n",
        "data_im = []\n",
        "data_lb = []\n",
        "\n",
        "for im, lb in data_sample:\n",
        "  data_im.append(im)\n",
        "  data_lb.append(lb)"
      ],
      "id": "AG785DigkIMA",
      "execution_count": 6,
      "outputs": []
    },
    {
      "cell_type": "code",
      "metadata": {
        "id": "ZjxpxXFwCeZg"
      },
      "source": [
        "def norma_2(image):\n",
        "  image = tf.cast(image/255, tf.float32)\n",
        "  return image"
      ],
      "id": "ZjxpxXFwCeZg",
      "execution_count": 33,
      "outputs": []
    },
    {
      "cell_type": "code",
      "metadata": {
        "id": "o_YeeN3SDjop"
      },
      "source": [
        "data_im_2 = [norma_2(image) for image in data_im]"
      ],
      "id": "o_YeeN3SDjop",
      "execution_count": 34,
      "outputs": []
    },
    {
      "cell_type": "code",
      "metadata": {
        "id": "Nlmt2V1LD839"
      },
      "source": [
        "data_im_2 = np.array(data_im_2)\n",
        "data_lb = np.array(data_lb)"
      ],
      "id": "Nlmt2V1LD839",
      "execution_count": 35,
      "outputs": []
    },
    {
      "cell_type": "code",
      "metadata": {
        "id": "7TDmw5OqFT5c"
      },
      "source": [
        "data_im_2 = data_im_2.reshape(-1, 150, 150, 3)\n",
        "data_lb = data_lb.reshape(-1, 10)"
      ],
      "id": "7TDmw5OqFT5c",
      "execution_count": 36,
      "outputs": []
    },
    {
      "cell_type": "code",
      "metadata": {
        "id": "rFoYaHkC_TUN"
      },
      "source": [
        "from tensorflow.keras.applications import inception_resnet_v2\n",
        "import matplotlib.pyplot as plt\n",
        "from tensorflow.keras import Input\n",
        "from tensorflow.keras.utils import to_categorical\n",
        "from tensorflow.keras.models import Sequential\n",
        "from tensorflow.keras.layers import Conv2D\n",
        "from tensorflow.keras.layers import MaxPooling2D, GlobalAveragePooling2D, MaxPool2D\n",
        "from tensorflow.keras.layers import Dense\n",
        "from tensorflow.keras.layers import Flatten\n",
        "from tensorflow.keras.optimizers import SGD\n",
        "from tensorflow.keras.layers import Dropout\n",
        "from tensorflow.keras.layers import BatchNormalization\n",
        "from tensorflow.keras.callbacks import EarlyStopping\n",
        " "
      ],
      "id": "rFoYaHkC_TUN",
      "execution_count": 42,
      "outputs": []
    },
    {
      "cell_type": "code",
      "metadata": {
        "id": "WP0RnVXjvSI-"
      },
      "source": [
        "inception_resnet_v2 = inception_resnet_v2.InceptionResNetV2(\n",
        "    include_top=False, weights=\"imagenet\", input_tensor=None,\n",
        "    input_shape=(150, 150, 3), pooling=None, classifier_activation='softmax')"
      ],
      "id": "WP0RnVXjvSI-",
      "execution_count": 23,
      "outputs": []
    },
    {
      "cell_type": "code",
      "metadata": {
        "id": "o1_mKFld3KbA"
      },
      "source": [
        "inception_resnet_v2.trainable = False"
      ],
      "id": "o1_mKFld3KbA",
      "execution_count": 24,
      "outputs": []
    },
    {
      "cell_type": "code",
      "metadata": {
        "id": "_Eqz6rw619By"
      },
      "source": [
        "def init_model():\n",
        "  model = Sequential()\n",
        "  model.add(Input(shape=(150, 150, 3)))\n",
        "  model.add(inception_resnet_v2)\n",
        "  model.add(Conv2D(32, (3,3), padding='same', activation=\"relu\"))\n",
        "  model.add(MaxPool2D(pool_size=(2,2)))\n",
        "  model.add(Conv2D(32, (2,2), padding='same', activation=\"relu\"))\n",
        "  model.add(Flatten())\n",
        "  model.add(Dense(50, activation='relu'))\n",
        "  model.add(Dropout(0.3))\n",
        "  model.add(Dense(10, activation='softmax'))\n",
        "  model.compile(loss='categorical_crossentropy', optimizer='adam', metrics='accuracy')\n",
        "  return model"
      ],
      "id": "_Eqz6rw619By",
      "execution_count": 27,
      "outputs": []
    },
    {
      "cell_type": "code",
      "metadata": {
        "id": "7viRvGZt32qR"
      },
      "source": [
        "model = init_model()"
      ],
      "id": "7viRvGZt32qR",
      "execution_count": 28,
      "outputs": []
    },
    {
      "cell_type": "code",
      "metadata": {
        "colab": {
          "base_uri": "https://localhost:8080/"
        },
        "id": "I-t12Iu0xSTP",
        "outputId": "21cde820-e2ea-4382-fb65-3d6acdded34b"
      },
      "source": [
        "model.summary()"
      ],
      "id": "I-t12Iu0xSTP",
      "execution_count": 29,
      "outputs": [
        {
          "output_type": "stream",
          "name": "stdout",
          "text": [
            "Model: \"sequential_3\"\n",
            "_________________________________________________________________\n",
            "Layer (type)                 Output Shape              Param #   \n",
            "=================================================================\n",
            "inception_resnet_v2 (Functio (None, 3, 3, 1536)        54336736  \n",
            "_________________________________________________________________\n",
            "conv2d_612 (Conv2D)          (None, 3, 3, 32)          442400    \n",
            "_________________________________________________________________\n",
            "max_pooling2d_14 (MaxPooling (None, 1, 1, 32)          0         \n",
            "_________________________________________________________________\n",
            "conv2d_613 (Conv2D)          (None, 1, 1, 32)          4128      \n",
            "_________________________________________________________________\n",
            "flatten (Flatten)            (None, 32)                0         \n",
            "_________________________________________________________________\n",
            "dense (Dense)                (None, 50)                1650      \n",
            "_________________________________________________________________\n",
            "dropout (Dropout)            (None, 50)                0         \n",
            "_________________________________________________________________\n",
            "dense_1 (Dense)              (None, 10)                510       \n",
            "=================================================================\n",
            "Total params: 54,785,424\n",
            "Trainable params: 448,688\n",
            "Non-trainable params: 54,336,736\n",
            "_________________________________________________________________\n"
          ]
        }
      ]
    },
    {
      "cell_type": "code",
      "metadata": {
        "id": "-PYVVwzCw890"
      },
      "source": [
        "es = EarlyStopping(patience = 10, monitor='val_loss' , mode='max', min_delta=0.001, restore_best_weights = True)"
      ],
      "id": "-PYVVwzCw890",
      "execution_count": 31,
      "outputs": []
    },
    {
      "cell_type": "code",
      "metadata": {
        "colab": {
          "base_uri": "https://localhost:8080/"
        },
        "id": "QsDHNmPpvaUu",
        "outputId": "5e544761-7e78-4344-ce71-fb0446389bfc"
      },
      "source": [
        "history = model.fit(data_im_2, data_lb, validation_split = 0.2, callbacks = [es], batch_size = 32, epochs = 100, verbose = 1)"
      ],
      "id": "QsDHNmPpvaUu",
      "execution_count": null,
      "outputs": [
        {
          "output_type": "stream",
          "name": "stdout",
          "text": [
            "Epoch 1/100\n",
            "80/80 [==============================] - 194s 2s/step - loss: 1.8060 - accuracy: 0.3785 - val_loss: 1.2523 - val_accuracy: 0.6062\n",
            "Epoch 2/100\n",
            "80/80 [==============================] - 183s 2s/step - loss: 1.2026 - accuracy: 0.6160 - val_loss: 1.0263 - val_accuracy: 0.6969\n",
            "Epoch 3/100\n",
            "80/80 [==============================] - 186s 2s/step - loss: 0.9617 - accuracy: 0.6961 - val_loss: 0.9565 - val_accuracy: 0.6906\n",
            "Epoch 4/100\n",
            "80/80 [==============================] - 183s 2s/step - loss: 0.7872 - accuracy: 0.7496 - val_loss: 1.0051 - val_accuracy: 0.7000\n",
            "Epoch 5/100\n",
            "80/80 [==============================] - 180s 2s/step - loss: 0.6820 - accuracy: 0.7926 - val_loss: 1.0284 - val_accuracy: 0.7156\n",
            "Epoch 6/100\n",
            "80/80 [==============================] - 180s 2s/step - loss: 0.5401 - accuracy: 0.8305 - val_loss: 0.9954 - val_accuracy: 0.7219\n",
            "Epoch 7/100\n",
            "80/80 [==============================] - 180s 2s/step - loss: 0.4792 - accuracy: 0.8547 - val_loss: 1.0390 - val_accuracy: 0.7281\n",
            "Epoch 8/100\n",
            "80/80 [==============================] - 180s 2s/step - loss: 0.4205 - accuracy: 0.8766 - val_loss: 1.0332 - val_accuracy: 0.7406\n",
            "Epoch 9/100\n",
            "80/80 [==============================] - 180s 2s/step - loss: 0.3166 - accuracy: 0.9047 - val_loss: 1.2404 - val_accuracy: 0.7156\n",
            "Epoch 10/100\n",
            "80/80 [==============================] - 180s 2s/step - loss: 0.2808 - accuracy: 0.9187 - val_loss: 1.1263 - val_accuracy: 0.7344\n",
            "Epoch 11/100\n",
            "80/80 [==============================] - 180s 2s/step - loss: 0.2563 - accuracy: 0.9187 - val_loss: 1.2900 - val_accuracy: 0.7203\n",
            "Epoch 12/100\n",
            "80/80 [==============================] - 178s 2s/step - loss: 0.2180 - accuracy: 0.9352 - val_loss: 1.1746 - val_accuracy: 0.7312\n",
            "Epoch 13/100\n",
            "80/80 [==============================] - 178s 2s/step - loss: 0.2075 - accuracy: 0.9359 - val_loss: 1.9151 - val_accuracy: 0.6547\n",
            "Epoch 14/100\n",
            "80/80 [==============================] - 179s 2s/step - loss: 0.2562 - accuracy: 0.9242 - val_loss: 1.3832 - val_accuracy: 0.7234\n",
            "Epoch 15/100\n",
            "80/80 [==============================] - 178s 2s/step - loss: 0.1802 - accuracy: 0.9441 - val_loss: 1.4495 - val_accuracy: 0.7156\n",
            "Epoch 16/100\n",
            "80/80 [==============================] - 178s 2s/step - loss: 0.1726 - accuracy: 0.9500 - val_loss: 1.4962 - val_accuracy: 0.7391\n",
            "Epoch 17/100\n",
            "80/80 [==============================] - 178s 2s/step - loss: 0.1072 - accuracy: 0.9711 - val_loss: 1.5401 - val_accuracy: 0.7375\n",
            "Epoch 18/100\n",
            "80/80 [==============================] - 178s 2s/step - loss: 0.1065 - accuracy: 0.9695 - val_loss: 1.6822 - val_accuracy: 0.7094\n",
            "Epoch 19/100\n",
            "80/80 [==============================] - 178s 2s/step - loss: 0.0897 - accuracy: 0.9719 - val_loss: 1.5378 - val_accuracy: 0.7234\n",
            "Epoch 20/100\n",
            " 2/80 [..............................] - ETA: 2:18 - loss: 0.0844 - accuracy: 0.9844"
          ]
        }
      ]
    },
    {
      "cell_type": "code",
      "metadata": {
        "id": "q80-3kdwdiBT"
      },
      "source": [
        "def summarize_diagnostics(history):\n",
        "  # plot loss\n",
        "  plt.subplot(211)\n",
        "  plt.title('Cross Entropy Loss')\n",
        "  plt.plot(history.history['loss'], color='blue', label='train')\n",
        "  plt.plot(history.history['val_loss'], color='orange', label='test')\n",
        "  # plot accuracy\n",
        "  plt.subplot(212)\n",
        "  plt.title('Classification Accuracy')\n",
        "  plt.plot(history.history['accuracy'], color='blue', label='train')\n",
        "  plt.plot(history.history['val_accuracy'], color='orange', label='test')"
      ],
      "id": "q80-3kdwdiBT",
      "execution_count": 43,
      "outputs": []
    },
    {
      "cell_type": "code",
      "metadata": {
        "colab": {
          "base_uri": "https://localhost:8080/",
          "height": 281
        },
        "id": "yp-m1mG0mGcd",
        "outputId": "ef35c313-0b6d-4cbd-f917-81f350f6ec07"
      },
      "source": [
        "summarize_diagnostics(history)"
      ],
      "id": "yp-m1mG0mGcd",
      "execution_count": 44,
      "outputs": [
        {
          "output_type": "display_data",
          "data": {
            "image/png": "[encoded data removed]",
            "text/plain": [
              "<Figure size 432x288 with 2 Axes>"
            ]
          },
          "metadata": {
            "needs_background": "light"
          }
        }
      ]
    },
    {
      "cell_type": "code",
      "metadata": {
        "id": "U-W1cu2etNMG"
      },
      "source": [
        ""
      ],
      "id": "U-W1cu2etNMG",
      "execution_count": null,
      "outputs": []
    }
  ]
}