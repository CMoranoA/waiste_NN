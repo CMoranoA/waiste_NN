{
  "nbformat": 4,
  "nbformat_minor": 5,
  "metadata": {
    "colab": {
      "name": "InceptionResNetV2.ipynb",
      "provenance": []
    },
    "kernelspec": {
      "display_name": "Python 3 (ipykernel)",
      "language": "python",
      "name": "python3"
    },
    "language_info": {
      "codemirror_mode": {
        "name": "ipython",
        "version": 3
      },
      "file_extension": ".py",
      "mimetype": "text/x-python",
      "name": "python",
      "nbconvert_exporter": "python",
      "pygments_lexer": "ipython3",
      "version": "3.8.6"
    },
    "toc": {
      "base_numbering": 1,
      "nav_menu": {},
      "number_sections": true,
      "sideBar": true,
      "skip_h1_title": false,
      "title_cell": "Table of Contents",
      "title_sidebar": "Contents",
      "toc_cell": false,
      "toc_position": {},
      "toc_section_display": true,
      "toc_window_display": false
    }
  },
  "cells": [
    {
      "cell_type": "code",
      "metadata": {
        "id": "b1c71244"
      },
      "source": [
        "from tensorflow.keras.utils import image_dataset_from_directory\n",
        "import tensorflow as tf\n",
        "import numpy as np"
      ],
      "id": "b1c71244",
      "execution_count": 1,
      "outputs": []
    },
    {
      "cell_type": "code",
      "metadata": {
        "colab": {
          "base_uri": "https://localhost:8080/"
        },
        "id": "Ktt8RHRGVLyb",
        "outputId": "dad32a72-e049-4557-b265-22c82aefe44e"
      },
      "source": [
        "from google.colab import drive\n",
        "drive.mount('/content/gdrive')"
      ],
      "id": "Ktt8RHRGVLyb",
      "execution_count": 2,
      "outputs": [
        {
          "output_type": "stream",
          "name": "stdout",
          "text": [
            "Drive already mounted at /content/gdrive; to attempt to forcibly remount, call drive.mount(\"/content/gdrive\", force_remount=True).\n"
          ]
        }
      ]
    },
    {
      "cell_type": "code",
      "metadata": {
        "colab": {
          "base_uri": "https://localhost:8080/"
        },
        "id": "20f46146",
        "outputId": "4066fe2d-e540-4bf8-fa9d-47b90960965a"
      },
      "source": [
        "data = image_dataset_from_directory(\"gdrive/MyDrive/waiste data\", \n",
        "                             labels='inferred', label_mode='categorical', class_names=None, color_mode='rgb',\n",
        "                             batch_size=32, image_size=(150, 150), shuffle=True, seed=None,\n",
        "                             validation_split=None, subset=None, interpolation='bilinear', follow_links=False,\n",
        "                             crop_to_aspect_ratio=False)"
      ],
      "id": "20f46146",
      "execution_count": 3,
      "outputs": [
        {
          "output_type": "stream",
          "name": "stdout",
          "text": [
            "Found 22610 files belonging to 10 classes.\n"
          ]
        }
      ]
    },
    {
      "cell_type": "code",
      "metadata": {
        "id": "eqALL8sB7QeV"
      },
      "source": [
        "def process(image,label):\n",
        "    image = tf.cast(image/255. ,tf.float32)\n",
        "    return image,label\n",
        "\n",
        "data_norm = data.map(process)"
      ],
      "id": "eqALL8sB7QeV",
      "execution_count": 4,
      "outputs": []
    },
    {
      "cell_type": "code",
      "metadata": {
        "id": "AG785DigkIMA"
      },
      "source": [
        "data_sample = data.take(300)\n",
        "\n",
        "data_im = []\n",
        "data_lb = []\n",
        "\n",
        "for im, lb in data_sample:\n",
        "  data_im.append(im)\n",
        "  data_lb.append(lb)"
      ],
      "id": "AG785DigkIMA",
      "execution_count": 5,
      "outputs": []
    },
    {
      "cell_type": "code",
      "metadata": {
        "id": "ZjxpxXFwCeZg"
      },
      "source": [
        "def norma_2(image):\n",
        "  image = tf.cast(image/255, tf.float32)\n",
        "  return image"
      ],
      "id": "ZjxpxXFwCeZg",
      "execution_count": 6,
      "outputs": []
    },
    {
      "cell_type": "code",
      "metadata": {
        "id": "o_YeeN3SDjop"
      },
      "source": [
        "data_im_2 = [norma_2(image) for image in data_im]"
      ],
      "id": "o_YeeN3SDjop",
      "execution_count": 7,
      "outputs": []
    },
    {
      "cell_type": "code",
      "metadata": {
        "id": "Nlmt2V1LD839"
      },
      "source": [
        "data_im_2 = np.array(data_im_2)\n",
        "data_lb = np.array(data_lb)"
      ],
      "id": "Nlmt2V1LD839",
      "execution_count": 8,
      "outputs": []
    },
    {
      "cell_type": "code",
      "metadata": {
        "id": "7TDmw5OqFT5c"
      },
      "source": [
        "data_im_2 = data_im_2.reshape(-1, 150, 150, 3)\n",
        "data_lb = data_lb.reshape(-1, 10)"
      ],
      "id": "7TDmw5OqFT5c",
      "execution_count": 9,
      "outputs": []
    },
    {
      "cell_type": "code",
      "metadata": {
        "id": "--mAiL4797Ee"
      },
      "source": [
        "# Split the data\n",
        "\n",
        "from sklearn.model_selection import train_test_split\n",
        "\n",
        "train_X, valid_X, train_y, valid_y = train_test_split(data_im_2, data_lb, test_size=0.3, random_state=42)\n",
        "valid_X, test_X, valid_y, test_y = train_test_split(valid_X, valid_y, test_size=0.5, random_state=42)"
      ],
      "id": "--mAiL4797Ee",
      "execution_count": 10,
      "outputs": []
    },
    {
      "cell_type": "code",
      "metadata": {
        "id": "k635ULbN-JjW"
      },
      "source": [
        ""
      ],
      "id": "k635ULbN-JjW",
      "execution_count": 10,
      "outputs": []
    },
    {
      "cell_type": "markdown",
      "metadata": {
        "id": "uH9ggVOo-KZa"
      },
      "source": [
        "## Build Model"
      ],
      "id": "uH9ggVOo-KZa"
    },
    {
      "cell_type": "code",
      "metadata": {
        "id": "rFoYaHkC_TUN",
        "colab": {
          "base_uri": "https://localhost:8080/",
          "height": 368
        },
        "outputId": "953ec002-eeff-48fa-8b38-6af0ab2301a4"
      },
      "source": [
        "from tensorflow.keras.applications import inception_resnet_v2\n",
        "from matplotlib.pyplot import plt\n",
        "from tensorflow.keras import Input\n",
        "from tensorflow.keras.models import Sequential\n",
        "from tensorflow.keras.layers import MaxPooling2D, MaxPool2D, Conv2D, Dense, Flatten, Dropout\n",
        "from tensorflow.keras.callbacks import EarlyStopping"
      ],
      "id": "rFoYaHkC_TUN",
      "execution_count": 11,
      "outputs": [
        {
          "output_type": "error",
          "ename": "ImportError",
          "evalue": "ignored",
          "traceback": [
            "\u001b[0;31m---------------------------------------------------------------------------\u001b[0m",
            "\u001b[0;31mImportError\u001b[0m                               Traceback (most recent call last)",
            "\u001b[0;32m<ipython-input-11-2344cc27a251>\u001b[0m in \u001b[0;36m<module>\u001b[0;34m()\u001b[0m\n\u001b[1;32m      1\u001b[0m \u001b[0;32mfrom\u001b[0m \u001b[0mtensorflow\u001b[0m\u001b[0;34m.\u001b[0m\u001b[0mkeras\u001b[0m\u001b[0;34m.\u001b[0m\u001b[0mapplications\u001b[0m \u001b[0;32mimport\u001b[0m \u001b[0minception_resnet_v2\u001b[0m\u001b[0;34m\u001b[0m\u001b[0;34m\u001b[0m\u001b[0m\n\u001b[0;32m----> 2\u001b[0;31m \u001b[0;32mfrom\u001b[0m \u001b[0mmatplotlib\u001b[0m\u001b[0;34m.\u001b[0m\u001b[0mpyplot\u001b[0m \u001b[0;32mimport\u001b[0m \u001b[0mplt\u001b[0m\u001b[0;34m\u001b[0m\u001b[0;34m\u001b[0m\u001b[0m\n\u001b[0m\u001b[1;32m      3\u001b[0m \u001b[0;32mfrom\u001b[0m \u001b[0mtensorflow\u001b[0m\u001b[0;34m.\u001b[0m\u001b[0mkeras\u001b[0m \u001b[0;32mimport\u001b[0m \u001b[0mInput\u001b[0m\u001b[0;34m\u001b[0m\u001b[0;34m\u001b[0m\u001b[0m\n\u001b[1;32m      4\u001b[0m \u001b[0;32mfrom\u001b[0m \u001b[0mtensorflow\u001b[0m\u001b[0;34m.\u001b[0m\u001b[0mkeras\u001b[0m\u001b[0;34m.\u001b[0m\u001b[0mmodels\u001b[0m \u001b[0;32mimport\u001b[0m \u001b[0mSequential\u001b[0m\u001b[0;34m\u001b[0m\u001b[0;34m\u001b[0m\u001b[0m\n\u001b[1;32m      5\u001b[0m \u001b[0;32mfrom\u001b[0m \u001b[0mtensorflow\u001b[0m\u001b[0;34m.\u001b[0m\u001b[0mkeras\u001b[0m\u001b[0;34m.\u001b[0m\u001b[0mlayers\u001b[0m \u001b[0;32mimport\u001b[0m \u001b[0mMaxPooling2D\u001b[0m\u001b[0;34m,\u001b[0m \u001b[0mMaxPool2D\u001b[0m\u001b[0;34m,\u001b[0m \u001b[0mConv2D\u001b[0m\u001b[0;34m,\u001b[0m \u001b[0mDense\u001b[0m\u001b[0;34m,\u001b[0m \u001b[0mFlatten\u001b[0m\u001b[0;34m,\u001b[0m \u001b[0mDropout\u001b[0m\u001b[0;34m\u001b[0m\u001b[0;34m\u001b[0m\u001b[0m\n",
            "\u001b[0;31mImportError\u001b[0m: cannot import name 'plt' from 'matplotlib.pyplot' (/usr/local/lib/python3.7/dist-packages/matplotlib/pyplot.py)",
            "",
            "\u001b[0;31m---------------------------------------------------------------------------\u001b[0;32m\nNOTE: If your import is failing due to a missing package, you can\nmanually install dependencies using either !pip or !apt.\n\nTo view examples of installing some common dependencies, click the\n\"Open Examples\" button below.\n\u001b[0;31m---------------------------------------------------------------------------\u001b[0m\n"
          ],
          "errorDetails": {
            "actions": [
              {
                "action": "open_url",
                "actionText": "Open Examples",
                "url": "/notebooks/snippets/importing_libraries.ipynb"
              }
            ]
          }
        }
      ]
    },
    {
      "cell_type": "code",
      "metadata": {
        "id": "WP0RnVXjvSI-"
      },
      "source": [
        "inception_resnet_v2 = inception_resnet_v2.InceptionResNetV2(\n",
        "    include_top=False, weights=\"imagenet\", input_tensor=None,\n",
        "    input_shape=(150, 150, 3), pooling=None, classifier_activation='softmax')"
      ],
      "id": "WP0RnVXjvSI-",
      "execution_count": null,
      "outputs": []
    },
    {
      "cell_type": "code",
      "metadata": {
        "id": "o1_mKFld3KbA"
      },
      "source": [
        "inception_resnet_v2.trainable = False"
      ],
      "id": "o1_mKFld3KbA",
      "execution_count": null,
      "outputs": []
    },
    {
      "cell_type": "code",
      "metadata": {
        "id": "_Eqz6rw619By"
      },
      "source": [
        "def init_model():\n",
        "  model = Sequential()\n",
        "  model.add(Input(shape=(150, 150, 3)))\n",
        "  model.add(inception_resnet_v2)\n",
        "  model.add(Conv2D(32, (4,4), padding='same', activation=\"relu\"))\n",
        "  model.add(MaxPool2D(pool_size=(3,3)))\n",
        "  model.add(Dropout(0.4))\n",
        "  model.add(Conv2D(32, (3,3), padding='same', activation=\"relu\"))\n",
        "  model.add(MaxPool2D(pool_size=(2,2)))\n",
        "  model.add(Dropout(0.3))\n",
        "  model.add(Conv2D(32, (3,3), padding='same', activation=\"relu\"))\n",
        "  model.add(Flatten())\n",
        "  model.add(Dense(50, activation='relu'))\n",
        "  model.add(Dropout(0.2))\n",
        "  model.add(Dense(10, activation='softmax'))\n",
        "  model.compile(loss='categorical_crossentropy', optimizer='adam', metrics=['categorical_accuracy'])\n",
        "  return model"
      ],
      "id": "_Eqz6rw619By",
      "execution_count": null,
      "outputs": []
    },
    {
      "cell_type": "code",
      "metadata": {
        "id": "7viRvGZt32qR"
      },
      "source": [
        "model = init_model()"
      ],
      "id": "7viRvGZt32qR",
      "execution_count": null,
      "outputs": []
    },
    {
      "cell_type": "code",
      "metadata": {
        "id": "I-t12Iu0xSTP"
      },
      "source": [
        "model.summary()"
      ],
      "id": "I-t12Iu0xSTP",
      "execution_count": null,
      "outputs": []
    },
    {
      "cell_type": "code",
      "metadata": {
        "id": "-PYVVwzCw890"
      },
      "source": [
        "es = EarlyStopping(patience = 10, monitor='val_categorical_accuracy' , mode='max', min_delta=0.001, restore_best_weights = True)"
      ],
      "id": "-PYVVwzCw890",
      "execution_count": null,
      "outputs": []
    },
    {
      "cell_type": "code",
      "metadata": {
        "id": "QsDHNmPpvaUu"
      },
      "source": [
        "history = model.fit(train_X, train_y, validation_split = 0.2, callbacks = [es], batch_size = 32, epochs = 100, verbose = 1)"
      ],
      "id": "QsDHNmPpvaUu",
      "execution_count": null,
      "outputs": []
    },
    {
      "cell_type": "code",
      "metadata": {
        "id": "q80-3kdwdiBT"
      },
      "source": [
        "def summarize_diagnostics(history):\n",
        "  # plot loss\n",
        "  plt.figure(figsize=(10, 15))\n",
        "  plt.subplot(211)\n",
        "  plt.title('Cross Entropy Loss')\n",
        "  plt.plot(history.history['loss'], color='blue', label='train')\n",
        "  plt.plot(history.history['val_loss'], color='orange', label='test')\n",
        "  # plot accuracy\n",
        "  plt.subplot(212)\n",
        "  plt.title('Classification Accuracy')\n",
        "  plt.plot(history.history['accuracy'], color='blue', label='train')\n",
        "  plt.plot(history.history['val_accuracy'], color='orange', label='test')"
      ],
      "id": "q80-3kdwdiBT",
      "execution_count": null,
      "outputs": []
    },
    {
      "cell_type": "code",
      "metadata": {
        "id": "yp-m1mG0mGcd"
      },
      "source": [
        "summarize_diagnostics(history)"
      ],
      "id": "yp-m1mG0mGcd",
      "execution_count": null,
      "outputs": []
    },
    {
      "cell_type": "code",
      "metadata": {
        "id": "U-W1cu2etNMG"
      },
      "source": [
        "pickle.dump(model, open('InceptionResNet_V2.pickle', mode='wb'))"
      ],
      "id": "U-W1cu2etNMG",
      "execution_count": null,
      "outputs": []
    }
  ]
}