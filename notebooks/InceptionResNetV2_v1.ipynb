{
 "cells": [
  {
   "cell_type": "markdown",
   "id": "c49d271f",
   "metadata": {},
   "source": [
    "## Imports"
   ]
  },
  {
   "cell_type": "code",
   "execution_count": 22,
   "id": "275df669",
   "metadata": {},
   "outputs": [],
   "source": [
    "from tensorflow.keras.utils import image_dataset_from_directory\n",
    "import tensorflow as tf\n",
    "import numpy as np\n",
    "from sklearn.model_selection import train_test_split\n",
    "from tensorflow.keras.applications import inception_resnet_v2\n",
    "import matplotlib.pyplot as plt\n",
    "from tensorflow.keras import Input\n",
    "from tensorflow.keras.models import Sequential\n",
    "from tensorflow.keras.layers import MaxPooling2D, MaxPool2D, Conv2D, Dense, Flatten, Dropout\n",
    "from tensorflow.keras.callbacks import EarlyStopping\n",
    "import pickle"
   ]
  },
  {
   "cell_type": "markdown",
   "id": "e050558b",
   "metadata": {},
   "source": [
    "## Load Data"
   ]
  },
  {
   "cell_type": "code",
   "execution_count": 2,
   "id": "e9184062",
   "metadata": {},
   "outputs": [],
   "source": [
    "# Data from google colab\n",
    "#from google.colab import drive\n",
    "#drive.mount('/content/gdrive')"
   ]
  },
  {
   "cell_type": "code",
   "execution_count": 3,
   "id": "325d67d9",
   "metadata": {},
   "outputs": [
    {
     "name": "stdout",
     "output_type": "stream",
     "text": [
      "Found 22610 files belonging to 10 classes.\n"
     ]
    },
    {
     "name": "stderr",
     "output_type": "stream",
     "text": [
      "2021-09-26 23:20:55.141481: I tensorflow/core/platform/cpu_feature_guard.cc:142] This TensorFlow binary is optimized with oneAPI Deep Neural Network Library (oneDNN) to use the following CPU instructions in performance-critical operations:  AVX2 FMA\n",
      "To enable them in other operations, rebuild TensorFlow with the appropriate compiler flags.\n"
     ]
    }
   ],
   "source": [
    "#Import from local repository\n",
    "\n",
    "data = image_dataset_from_directory(\"/Users/cristobalmorano/code/nadiasalmen/waiste/data/waistedata\", \n",
    "                             labels='inferred', label_mode='categorical', class_names=None, color_mode='rgb',\n",
    "                             batch_size=32, image_size=(128, 128), shuffle=True, seed=None,\n",
    "                             validation_split=None, subset=None, interpolation='bilinear', follow_links=False,\n",
    "                             crop_to_aspect_ratio=False)"
   ]
  },
  {
   "cell_type": "code",
   "execution_count": 4,
   "id": "e34cda6c",
   "metadata": {},
   "outputs": [
    {
     "name": "stderr",
     "output_type": "stream",
     "text": [
      "2021-09-26 23:20:58.042901: I tensorflow/compiler/mlir/mlir_graph_optimization_pass.cc:185] None of the MLIR Optimization Passes are enabled (registered 2)\n",
      "2021-09-26 23:21:25.299180: W tensorflow/core/lib/png/png_io.cc:88] PNG warning: iCCP: known incorrect sRGB profile\n",
      "2021-09-26 23:22:55.165376: W tensorflow/core/lib/png/png_io.cc:88] PNG warning: iCCP: known incorrect sRGB profile\n"
     ]
    }
   ],
   "source": [
    "#Take number of images according to batch size\n",
    "\n",
    "data_sample = data.take(700)\n",
    "\n",
    "data_im = []\n",
    "data_lb = []\n",
    "\n",
    "for im, lb in data_sample:\n",
    "    data_im.append(im)\n",
    "    data_lb.append(lb)"
   ]
  },
  {
   "cell_type": "code",
   "execution_count": 5,
   "id": "cf77cfaa",
   "metadata": {},
   "outputs": [],
   "source": [
    "#Normalize image tensors (0 - 1)\n",
    "\n",
    "def norma_2(image):\n",
    "    image = tf.cast(image/255, tf.float32)\n",
    "    return image\n",
    "\n",
    "data_im_2 = [norma_2(image) for image in data_im]"
   ]
  },
  {
   "cell_type": "code",
   "execution_count": 6,
   "id": "73888b4b",
   "metadata": {},
   "outputs": [],
   "source": [
    "#Convert X and y to numpy arrays\n",
    "\n",
    "data_im_2 = np.array(data_im_2)\n",
    "data_lb = np.array(data_lb)"
   ]
  },
  {
   "cell_type": "code",
   "execution_count": 7,
   "id": "214bf308",
   "metadata": {},
   "outputs": [],
   "source": [
    "#Reshape for model\n",
    "\n",
    "data_im_2 = data_im_2.reshape(-1, 128, 128, 3)\n",
    "data_lb = data_lb.reshape(-1, 10)"
   ]
  },
  {
   "cell_type": "code",
   "execution_count": 8,
   "id": "fff0e0e0",
   "metadata": {},
   "outputs": [],
   "source": [
    "# Split the data\n",
    "\n",
    "train_X, test_X, train_y, test_y = train_test_split(data_im_2, data_lb, test_size=0.2, random_state=42)"
   ]
  },
  {
   "cell_type": "markdown",
   "id": "61d1d702",
   "metadata": {},
   "source": [
    "## Build model"
   ]
  },
  {
   "cell_type": "code",
   "execution_count": 9,
   "id": "7d5255e3",
   "metadata": {},
   "outputs": [],
   "source": [
    "#Import InceptionResNetV2\n",
    "\n",
    "inception_resnet_v2 = inception_resnet_v2.InceptionResNetV2(include_top=False, \n",
    "                                                            weights=\"imagenet\", input_tensor=None, \n",
    "                                                            input_shape=(128, 128, 3), pooling=None, \n",
    "                                                            classifier_activation='softmax')"
   ]
  },
  {
   "cell_type": "code",
   "execution_count": 10,
   "id": "022f2083",
   "metadata": {},
   "outputs": [],
   "source": [
    "inception_resnet_v2.trainable = False"
   ]
  },
  {
   "cell_type": "code",
   "execution_count": 11,
   "id": "79472a37",
   "metadata": {},
   "outputs": [],
   "source": [
    "def init_model():\n",
    "    model = Sequential()\n",
    "    model.add(Input(shape=(128, 128, 3)))\n",
    "    \n",
    "    model.add(inception_resnet_v2)\n",
    "    \n",
    "    model.add(Conv2D(32, (4,4), padding='same', activation=\"relu\"))\n",
    "    model.add(MaxPool2D(pool_size=(4,4), padding='same'))\n",
    "    model.add(Dropout(0.3))\n",
    "    \n",
    "    model.add(Conv2D(32, (3,3), padding='same', activation=\"relu\"))\n",
    "    model.add(MaxPool2D(pool_size=(3,3), padding='same'))\n",
    "    model.add(Dropout(0.2))\n",
    "    \n",
    "    model.add(Conv2D(16, (2,2), padding='same', activation=\"relu\"))\n",
    "    model.add(MaxPool2D(pool_size=(2,2), padding='same'))\n",
    "    model.add(Dropout(0.1))\n",
    "    \n",
    "    model.add(Flatten())\n",
    "    \n",
    "    model.add(Dense(50, activation='relu'))\n",
    "    model.add(Dropout(0.1))\n",
    "    model.add(Dense(10, activation='softmax'))\n",
    "    \n",
    "    model.compile(loss='categorical_crossentropy', optimizer='adam', metrics=[\"accuracy\"])\n",
    "    return model"
   ]
  },
  {
   "cell_type": "code",
   "execution_count": 12,
   "id": "eba98c18",
   "metadata": {},
   "outputs": [],
   "source": [
    "model = init_model()"
   ]
  },
  {
   "cell_type": "code",
   "execution_count": 13,
   "id": "90a857ee",
   "metadata": {},
   "outputs": [
    {
     "name": "stdout",
     "output_type": "stream",
     "text": [
      "Model: \"sequential\"\n",
      "_________________________________________________________________\n",
      "Layer (type)                 Output Shape              Param #   \n",
      "=================================================================\n",
      "inception_resnet_v2 (Functio (None, 2, 2, 1536)        54336736  \n",
      "_________________________________________________________________\n",
      "conv2d_203 (Conv2D)          (None, 2, 2, 32)          786464    \n",
      "_________________________________________________________________\n",
      "max_pooling2d_4 (MaxPooling2 (None, 1, 1, 32)          0         \n",
      "_________________________________________________________________\n",
      "dropout (Dropout)            (None, 1, 1, 32)          0         \n",
      "_________________________________________________________________\n",
      "conv2d_204 (Conv2D)          (None, 1, 1, 32)          9248      \n",
      "_________________________________________________________________\n",
      "max_pooling2d_5 (MaxPooling2 (None, 1, 1, 32)          0         \n",
      "_________________________________________________________________\n",
      "dropout_1 (Dropout)          (None, 1, 1, 32)          0         \n",
      "_________________________________________________________________\n",
      "conv2d_205 (Conv2D)          (None, 1, 1, 16)          2064      \n",
      "_________________________________________________________________\n",
      "max_pooling2d_6 (MaxPooling2 (None, 1, 1, 16)          0         \n",
      "_________________________________________________________________\n",
      "dropout_2 (Dropout)          (None, 1, 1, 16)          0         \n",
      "_________________________________________________________________\n",
      "flatten (Flatten)            (None, 16)                0         \n",
      "_________________________________________________________________\n",
      "dense (Dense)                (None, 50)                850       \n",
      "_________________________________________________________________\n",
      "dropout_3 (Dropout)          (None, 50)                0         \n",
      "_________________________________________________________________\n",
      "dense_1 (Dense)              (None, 10)                510       \n",
      "=================================================================\n",
      "Total params: 55,135,872\n",
      "Trainable params: 799,136\n",
      "Non-trainable params: 54,336,736\n",
      "_________________________________________________________________\n"
     ]
    }
   ],
   "source": [
    "model.summary()"
   ]
  },
  {
   "cell_type": "code",
   "execution_count": 14,
   "id": "5bb8de23",
   "metadata": {},
   "outputs": [],
   "source": [
    "es = EarlyStopping(patience = 40, monitor='val_loss' , min_delta=0.001, restore_best_weights = True)"
   ]
  },
  {
   "cell_type": "code",
   "execution_count": 15,
   "id": "3cf88153",
   "metadata": {},
   "outputs": [
    {
     "name": "stdout",
     "output_type": "stream",
     "text": [
      "Epoch 1/500\n",
      "196/196 [==============================] - 464s 2s/step - loss: 1.7020 - accuracy: 0.3922 - val_loss: 1.2229 - val_accuracy: 0.6142\n",
      "Epoch 2/500\n",
      "196/196 [==============================] - 439s 2s/step - loss: 1.2784 - accuracy: 0.5729 - val_loss: 1.0471 - val_accuracy: 0.6747\n",
      "Epoch 3/500\n",
      "196/196 [==============================] - 436s 2s/step - loss: 1.1496 - accuracy: 0.6182 - val_loss: 1.0141 - val_accuracy: 0.6782\n",
      "Epoch 4/500\n",
      "196/196 [==============================] - 443s 2s/step - loss: 1.0847 - accuracy: 0.6402 - val_loss: 0.9515 - val_accuracy: 0.6966\n",
      "Epoch 5/500\n",
      "196/196 [==============================] - 442s 2s/step - loss: 1.0064 - accuracy: 0.6651 - val_loss: 0.9084 - val_accuracy: 0.7057\n",
      "Epoch 6/500\n",
      "196/196 [==============================] - 441s 2s/step - loss: 0.9791 - accuracy: 0.6707 - val_loss: 0.9520 - val_accuracy: 0.7087\n",
      "Epoch 7/500\n",
      "196/196 [==============================] - 441s 2s/step - loss: 0.9286 - accuracy: 0.6967 - val_loss: 0.9118 - val_accuracy: 0.7228\n",
      "Epoch 8/500\n",
      "196/196 [==============================] - 441s 2s/step - loss: 0.9011 - accuracy: 0.7083 - val_loss: 0.8976 - val_accuracy: 0.7251\n",
      "Epoch 9/500\n",
      "196/196 [==============================] - 443s 2s/step - loss: 0.8720 - accuracy: 0.7140 - val_loss: 0.8458 - val_accuracy: 0.7405\n",
      "Epoch 10/500\n",
      "196/196 [==============================] - 441s 2s/step - loss: 0.8261 - accuracy: 0.7280 - val_loss: 0.9117 - val_accuracy: 0.7186\n",
      "Epoch 11/500\n",
      "196/196 [==============================] - 441s 2s/step - loss: 0.8237 - accuracy: 0.7295 - val_loss: 0.9070 - val_accuracy: 0.7320\n",
      "Epoch 12/500\n",
      "196/196 [==============================] - 442s 2s/step - loss: 0.7985 - accuracy: 0.7324 - val_loss: 0.8905 - val_accuracy: 0.7342\n",
      "Epoch 13/500\n",
      "196/196 [==============================] - 441s 2s/step - loss: 0.7655 - accuracy: 0.7486 - val_loss: 0.8466 - val_accuracy: 0.7498\n",
      "Epoch 14/500\n",
      "196/196 [==============================] - 441s 2s/step - loss: 0.7496 - accuracy: 0.7514 - val_loss: 0.9406 - val_accuracy: 0.7347\n",
      "Epoch 15/500\n",
      "196/196 [==============================] - 440s 2s/step - loss: 0.7331 - accuracy: 0.7631 - val_loss: 0.8396 - val_accuracy: 0.7528\n",
      "Epoch 16/500\n",
      "196/196 [==============================] - 441s 2s/step - loss: 0.7197 - accuracy: 0.7667 - val_loss: 0.8525 - val_accuracy: 0.7558\n",
      "Epoch 17/500\n",
      "196/196 [==============================] - 440s 2s/step - loss: 0.7112 - accuracy: 0.7638 - val_loss: 0.8423 - val_accuracy: 0.7571\n",
      "Epoch 18/500\n",
      "196/196 [==============================] - 441s 2s/step - loss: 0.6984 - accuracy: 0.7722 - val_loss: 0.9342 - val_accuracy: 0.7448\n",
      "Epoch 19/500\n",
      "196/196 [==============================] - 440s 2s/step - loss: 0.7046 - accuracy: 0.7680 - val_loss: 0.8527 - val_accuracy: 0.7621\n",
      "Epoch 20/500\n",
      "196/196 [==============================] - 441s 2s/step - loss: 0.6696 - accuracy: 0.7778 - val_loss: 0.8735 - val_accuracy: 0.7494\n",
      "Epoch 21/500\n",
      "196/196 [==============================] - 440s 2s/step - loss: 0.6567 - accuracy: 0.7851 - val_loss: 0.9272 - val_accuracy: 0.7522\n",
      "Epoch 22/500\n",
      "196/196 [==============================] - 440s 2s/step - loss: 0.6389 - accuracy: 0.7875 - val_loss: 0.8777 - val_accuracy: 0.7645\n",
      "Epoch 23/500\n",
      "196/196 [==============================] - 440s 2s/step - loss: 0.6418 - accuracy: 0.7898 - val_loss: 0.8745 - val_accuracy: 0.7636\n",
      "Epoch 24/500\n",
      "196/196 [==============================] - 440s 2s/step - loss: 0.6359 - accuracy: 0.7892 - val_loss: 0.8467 - val_accuracy: 0.7725\n",
      "Epoch 25/500\n",
      "196/196 [==============================] - 440s 2s/step - loss: 0.6200 - accuracy: 0.7954 - val_loss: 0.8630 - val_accuracy: 0.7671\n",
      "Epoch 26/500\n",
      "196/196 [==============================] - 439s 2s/step - loss: 0.6134 - accuracy: 0.7992 - val_loss: 0.8600 - val_accuracy: 0.7699\n",
      "Epoch 27/500\n",
      "196/196 [==============================] - 440s 2s/step - loss: 0.6029 - accuracy: 0.8012 - val_loss: 0.8671 - val_accuracy: 0.7591\n",
      "Epoch 28/500\n",
      "196/196 [==============================] - 440s 2s/step - loss: 0.6032 - accuracy: 0.8015 - val_loss: 0.8958 - val_accuracy: 0.7679\n",
      "Epoch 29/500\n",
      "196/196 [==============================] - 444s 2s/step - loss: 0.5795 - accuracy: 0.8048 - val_loss: 0.8891 - val_accuracy: 0.7746\n",
      "Epoch 30/500\n",
      "196/196 [==============================] - 440s 2s/step - loss: 0.5704 - accuracy: 0.8091 - val_loss: 0.8778 - val_accuracy: 0.7770\n",
      "Epoch 31/500\n",
      "196/196 [==============================] - 440s 2s/step - loss: 0.5835 - accuracy: 0.8051 - val_loss: 0.9178 - val_accuracy: 0.7571\n",
      "Epoch 32/500\n",
      "196/196 [==============================] - 440s 2s/step - loss: 0.5841 - accuracy: 0.8050 - val_loss: 0.9252 - val_accuracy: 0.7666\n",
      "Epoch 33/500\n",
      "196/196 [==============================] - 440s 2s/step - loss: 0.5695 - accuracy: 0.8131 - val_loss: 0.8699 - val_accuracy: 0.7772\n",
      "Epoch 34/500\n",
      "196/196 [==============================] - 439s 2s/step - loss: 0.5743 - accuracy: 0.8086 - val_loss: 0.8728 - val_accuracy: 0.7690\n",
      "Epoch 35/500\n",
      "196/196 [==============================] - 439s 2s/step - loss: 0.5692 - accuracy: 0.8103 - val_loss: 0.9284 - val_accuracy: 0.7690\n",
      "Epoch 36/500\n",
      "196/196 [==============================] - 440s 2s/step - loss: 0.5373 - accuracy: 0.8233 - val_loss: 0.9071 - val_accuracy: 0.7723\n",
      "Epoch 37/500\n",
      "196/196 [==============================] - 440s 2s/step - loss: 0.5321 - accuracy: 0.8234 - val_loss: 0.9393 - val_accuracy: 0.7623\n",
      "Epoch 38/500\n",
      "196/196 [==============================] - 439s 2s/step - loss: 0.5259 - accuracy: 0.8254 - val_loss: 0.9605 - val_accuracy: 0.7753\n",
      "Epoch 39/500\n",
      "196/196 [==============================] - 439s 2s/step - loss: 0.5277 - accuracy: 0.8236 - val_loss: 0.9465 - val_accuracy: 0.7548\n",
      "Epoch 40/500\n",
      "196/196 [==============================] - 439s 2s/step - loss: 0.5298 - accuracy: 0.8249 - val_loss: 0.9187 - val_accuracy: 0.7844\n",
      "Epoch 41/500\n",
      "196/196 [==============================] - 439s 2s/step - loss: 0.5193 - accuracy: 0.8286 - val_loss: 0.9643 - val_accuracy: 0.7794\n",
      "Epoch 42/500\n",
      "196/196 [==============================] - 440s 2s/step - loss: 0.5204 - accuracy: 0.8270 - val_loss: 0.9788 - val_accuracy: 0.7669\n",
      "Epoch 43/500\n",
      "196/196 [==============================] - 439s 2s/step - loss: 0.5035 - accuracy: 0.8339 - val_loss: 0.9683 - val_accuracy: 0.7733\n",
      "Epoch 44/500\n",
      "196/196 [==============================] - 440s 2s/step - loss: 0.5222 - accuracy: 0.8265 - val_loss: 0.9414 - val_accuracy: 0.7688\n",
      "Epoch 45/500\n",
      "196/196 [==============================] - 441s 2s/step - loss: 0.5070 - accuracy: 0.8312 - val_loss: 0.9761 - val_accuracy: 0.7760\n",
      "Epoch 46/500\n",
      "196/196 [==============================] - 442s 2s/step - loss: 0.5118 - accuracy: 0.8285 - val_loss: 0.9625 - val_accuracy: 0.7638\n",
      "Epoch 47/500\n",
      "196/196 [==============================] - 440s 2s/step - loss: 0.4843 - accuracy: 0.8398 - val_loss: 1.0701 - val_accuracy: 0.7699\n",
      "Epoch 48/500\n",
      "196/196 [==============================] - 440s 2s/step - loss: 0.5025 - accuracy: 0.8362 - val_loss: 0.9782 - val_accuracy: 0.7863\n",
      "Epoch 49/500\n",
      "196/196 [==============================] - 440s 2s/step - loss: 0.5010 - accuracy: 0.8348 - val_loss: 1.1408 - val_accuracy: 0.7560\n",
      "Epoch 50/500\n",
      "196/196 [==============================] - 440s 2s/step - loss: 0.5001 - accuracy: 0.8368 - val_loss: 0.9674 - val_accuracy: 0.7705\n",
      "Epoch 51/500\n",
      "196/196 [==============================] - 439s 2s/step - loss: 0.4980 - accuracy: 0.8367 - val_loss: 1.0325 - val_accuracy: 0.7675\n",
      "Epoch 52/500\n",
      "196/196 [==============================] - 441s 2s/step - loss: 0.5022 - accuracy: 0.8379 - val_loss: 0.9501 - val_accuracy: 0.7712\n",
      "Epoch 53/500\n",
      "196/196 [==============================] - 440s 2s/step - loss: 0.4900 - accuracy: 0.8415 - val_loss: 0.9444 - val_accuracy: 0.7799\n",
      "Epoch 54/500\n",
      "196/196 [==============================] - 440s 2s/step - loss: 0.4935 - accuracy: 0.8335 - val_loss: 1.0030 - val_accuracy: 0.7615\n",
      "Epoch 55/500\n",
      "196/196 [==============================] - 439s 2s/step - loss: 0.4729 - accuracy: 0.8410 - val_loss: 1.0405 - val_accuracy: 0.7768\n"
     ]
    }
   ],
   "source": [
    "history = model.fit(train_X, train_y, validation_split = 0.3, \n",
    "                    callbacks = [es], batch_size = 64, \n",
    "                    epochs = 500, verbose = 1)"
   ]
  },
  {
   "cell_type": "code",
   "execution_count": 18,
   "id": "fcfbeaef",
   "metadata": {},
   "outputs": [],
   "source": [
    "def summarize_diagnostics(history):\n",
    "    # plot loss\n",
    "    plt.figure(figsize=(10, 15))\n",
    "    plt.subplot(211)\n",
    "    plt.title('Cross Entropy Loss')\n",
    "    plt.plot(history.history['loss'], color='blue', label='train')\n",
    "    plt.plot(history.history['val_loss'], color='orange', label='test')\n",
    "    plt.legend()\n",
    "    # plot accuracy\n",
    "    plt.subplot(212)\n",
    "    plt.title('Classification Accuracy')\n",
    "    plt.plot(history.history['accuracy'], color='blue', label='train')\n",
    "    plt.plot(history.history['val_accuracy'], color='orange', label='test')\n",
    "    plt.legend()"
   ]
  },
  {
   "cell_type": "code",
   "execution_count": 19,
   "id": "ff1a8816",
   "metadata": {},
   "outputs": [
    {
     "data": {
      "image/png": "[encoded data removed]",
      "text/plain": [
       "<Figure size 720x1080 with 2 Axes>"
      ]
     },
     "metadata": {
      "needs_background": "light"
     },
     "output_type": "display_data"
    }
   ],
   "source": [
    "summarize_diagnostics(history)"
   ]
  },
  {
   "cell_type": "code",
   "execution_count": 27,
   "id": "f705c693",
   "metadata": {},
   "outputs": [
    {
     "name": "stdout",
     "output_type": "stream",
     "text": [
      "140/140 [==============================] - 120s 831ms/step - loss: 0.8248 - accuracy: 0.7652\n"
     ]
    }
   ],
   "source": [
    "scores = model.evaluate(test_X, test_y, verbose=1)"
   ]
  },
  {
   "cell_type": "code",
   "execution_count": 26,
   "id": "1bf64212",
   "metadata": {},
   "outputs": [
    {
     "ename": "AttributeError",
     "evalue": "Can't pickle local object 'inception_resnet_block.<locals>.<lambda>'",
     "output_type": "error",
     "traceback": [
      "\u001b[0;31m---------------------------------------------------------------------------\u001b[0m",
      "\u001b[0;31mAttributeError\u001b[0m                            Traceback (most recent call last)",
      "\u001b[0;32m/var/folders/s5/wdlzjmv97yq4ld97sfrxjxs80000gn/T/ipykernel_5025/3950972538.py\u001b[0m in \u001b[0;36m<module>\u001b[0;34m\u001b[0m\n\u001b[0;32m----> 1\u001b[0;31m \u001b[0mpickle\u001b[0m\u001b[0;34m.\u001b[0m\u001b[0mdump\u001b[0m\u001b[0;34m(\u001b[0m\u001b[0mmodel\u001b[0m\u001b[0;34m,\u001b[0m \u001b[0mopen\u001b[0m\u001b[0;34m(\u001b[0m\u001b[0;34m'InceptionResNet_acc_78.pickle'\u001b[0m\u001b[0;34m,\u001b[0m \u001b[0mmode\u001b[0m\u001b[0;34m=\u001b[0m\u001b[0;34m'wb'\u001b[0m\u001b[0;34m)\u001b[0m\u001b[0;34m)\u001b[0m\u001b[0;34m\u001b[0m\u001b[0;34m\u001b[0m\u001b[0m\n\u001b[0m",
      "\u001b[0;31mAttributeError\u001b[0m: Can't pickle local object 'inception_resnet_block.<locals>.<lambda>'"
     ]
    }
   ],
   "source": [
    "# serialize model to JSON\n",
    "model_json = model.to_json()\n",
    "with open(\"model_acc_076.json\", \"w\") as json_file:\n",
    "    json_file.write(model_json)\n",
    "    \n",
    "# serialize weights to HDF5\n",
    "model.save_weights(\"model.h5\")\n",
    "print(\"Saved model to disk\")"
   ]
  },
  {
   "cell_type": "code",
   "execution_count": null,
   "id": "506f681d",
   "metadata": {},
   "outputs": [],
   "source": []
  }
 ],
 "metadata": {
  "kernelspec": {
   "display_name": "Python 3 (ipykernel)",
   "language": "python",
   "name": "python3"
  },
  "language_info": {
   "codemirror_mode": {
    "name": "ipython",
    "version": 3
   },
   "file_extension": ".py",
   "mimetype": "text/x-python",
   "name": "python",
   "nbconvert_exporter": "python",
   "pygments_lexer": "ipython3",
   "version": "3.8.6"
  },
  "toc": {
   "base_numbering": 1,
   "nav_menu": {},
   "number_sections": true,
   "sideBar": true,
   "skip_h1_title": false,
   "title_cell": "Table of Contents",
   "title_sidebar": "Contents",
   "toc_cell": false,
   "toc_position": {},
   "toc_section_display": true,
   "toc_window_display": false
  }
 },
 "nbformat": 4,
 "nbformat_minor": 5
}
