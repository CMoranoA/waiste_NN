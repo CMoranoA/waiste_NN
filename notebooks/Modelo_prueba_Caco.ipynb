{
  "nbformat": 4,
  "nbformat_minor": 5,
  "metadata": {
    "colab": {
      "name": "Modelo_prueba_Caco.ipynb",
      "provenance": []
    },
    "kernelspec": {
      "display_name": "Python 3 (ipykernel)",
      "language": "python",
      "name": "python3"
    },
    "language_info": {
      "codemirror_mode": {
        "name": "ipython",
        "version": 3
      },
      "file_extension": ".py",
      "mimetype": "text/x-python",
      "name": "python",
      "nbconvert_exporter": "python",
      "pygments_lexer": "ipython3",
      "version": "3.8.6"
    },
    "toc": {
      "base_numbering": 1,
      "nav_menu": {},
      "number_sections": true,
      "sideBar": true,
      "skip_h1_title": false,
      "title_cell": "Table of Contents",
      "title_sidebar": "Contents",
      "toc_cell": false,
      "toc_position": {},
      "toc_section_display": true,
      "toc_window_display": false
    }
  },
  "cells": [
    {
      "cell_type": "code",
      "metadata": {
        "id": "b1c71244"
      },
      "source": [
        "from tensorflow.keras.utils import image_dataset_from_directory\n",
        "import tensorflow as tf\n",
        "import numpy as np"
      ],
      "id": "b1c71244",
      "execution_count": null,
      "outputs": []
    },
    {
      "cell_type": "code",
      "metadata": {
        "colab": {
          "base_uri": "https://localhost:8080/"
        },
        "id": "Ktt8RHRGVLyb",
        "outputId": "892643ce-c0d5-4453-a2fb-67fa79c1563d"
      },
      "source": [
        "from google.colab import drive\n",
        "drive.mount('/content/gdrive')"
      ],
      "id": "Ktt8RHRGVLyb",
      "execution_count": null,
      "outputs": [
        {
          "name": "stdout",
          "output_type": "stream",
          "text": [
            "Drive already mounted at /content/gdrive; to attempt to forcibly remount, call drive.mount(\"/content/gdrive\", force_remount=True).\n"
          ]
        }
      ]
    },
    {
      "cell_type": "code",
      "metadata": {
        "colab": {
          "base_uri": "https://localhost:8080/"
        },
        "id": "20f46146",
        "outputId": "5744d269-f007-46b8-e474-aa54beb0d42f"
      },
      "source": [
        "data = image_dataset_from_directory(\"gdrive/MyDrive/waiste data\", \n",
        "                             labels='inferred', label_mode='categorical', class_names=None, color_mode='rgb',\n",
        "                             batch_size=32, image_size=(256, 256), shuffle=True, seed=None,\n",
        "                             validation_split=None, subset=None, interpolation='bilinear', follow_links=False,\n",
        "                             crop_to_aspect_ratio=False)"
      ],
      "id": "20f46146",
      "execution_count": null,
      "outputs": [
        {
          "name": "stdout",
          "output_type": "stream",
          "text": [
            "Found 23842 files belonging to 10 classes.\n"
          ]
        }
      ]
    },
    {
      "cell_type": "code",
      "metadata": {
        "id": "eqALL8sB7QeV"
      },
      "source": [
        "def process(image,label):\n",
        "    image = tf.cast(image/255. ,tf.float32)\n",
        "    return image,label\n",
        "\n",
        "data_norm = data.map(process)"
      ],
      "id": "eqALL8sB7QeV",
      "execution_count": null,
      "outputs": []
    },
    {
      "cell_type": "code",
      "metadata": {
        "id": "AG785DigkIMA"
      },
      "source": [
        "data_sample = data.take(10)\n",
        "\n",
        "data_im = []\n",
        "data_lb = []\n",
        "\n",
        "for im, lb in data_sample:\n",
        "  data_im.append(im)\n",
        "  data_lb.append(lb)"
      ],
      "id": "AG785DigkIMA",
      "execution_count": null,
      "outputs": []
    },
    {
      "cell_type": "code",
      "metadata": {
        "id": "ZjxpxXFwCeZg"
      },
      "source": [
        "def norma_2(image):\n",
        "  image = tf.cast(image/255, tf.float32)\n",
        "  return image"
      ],
      "id": "ZjxpxXFwCeZg",
      "execution_count": null,
      "outputs": []
    },
    {
      "cell_type": "code",
      "metadata": {
        "id": "o_YeeN3SDjop"
      },
      "source": [
        "data_im_2 = [norma_2(image) for image in data_im]"
      ],
      "id": "o_YeeN3SDjop",
      "execution_count": null,
      "outputs": []
    },
    {
      "cell_type": "code",
      "metadata": {
        "id": "Nlmt2V1LD839"
      },
      "source": [
        "data_im_2 = np.array(data_im_2)\n",
        "data_lb = np.array(data_lb)"
      ],
      "id": "Nlmt2V1LD839",
      "execution_count": null,
      "outputs": []
    },
    {
      "cell_type": "code",
      "metadata": {
        "id": "7TDmw5OqFT5c"
      },
      "source": [
        "data_im_2 = data_im_2.reshape(-1, 256, 256, 3)\n",
        "data_lb = data_lb.reshape(-1, 10)"
      ],
      "id": "7TDmw5OqFT5c",
      "execution_count": null,
      "outputs": []
    },
    {
      "cell_type": "code",
      "metadata": {
        "id": "rFoYaHkC_TUN"
      },
      "source": [
        "from matplotlib import pyplot\n",
        "from tensorflow.keras.datasets import cifar10\n",
        "from tensorflow.keras.utils import to_categorical\n",
        "import sys\n",
        "from matplotlib import pyplot\n",
        "from tensorflow.keras.datasets import cifar10\n",
        "from tensorflow.keras.utils import to_categorical\n",
        "from tensorflow.keras.models import Sequential\n",
        "from tensorflow.keras.layers import Conv2D\n",
        "from tensorflow.keras.layers import MaxPooling2D\n",
        "from tensorflow.keras.layers import Dense\n",
        "from tensorflow.keras.layers import Flatten\n",
        "from tensorflow.keras.optimizers import SGD"
      ],
      "id": "rFoYaHkC_TUN",
      "execution_count": null,
      "outputs": []
    },
    {
      "cell_type": "code",
      "metadata": {
        "id": "XhOFwTlUAF1h"
      },
      "source": [
        "def define_model():\n",
        "  model = Sequential()\n",
        "  # example of a 3-block vgg style architecture\n",
        "  model.add(Conv2D(32, (3, 3), activation='relu', kernel_initializer='he_uniform', padding='same', input_shape=(256, 256, 3)))\n",
        "  model.add(Conv2D(32, (3, 3), activation='relu', kernel_initializer='he_uniform', padding='same'))\n",
        "  model.add(MaxPooling2D((2, 2)))\n",
        "  model.add(Conv2D(64, (3, 3), activation='relu', kernel_initializer='he_uniform', padding='same'))\n",
        "  model.add(Conv2D(64, (3, 3), activation='relu', kernel_initializer='he_uniform', padding='same'))\n",
        "  model.add(MaxPooling2D((2, 2)))\n",
        "  model.add(Conv2D(128, (3, 3), activation='relu', kernel_initializer='he_uniform', padding='same'))\n",
        "  model.add(Conv2D(128, (3, 3), activation='relu', kernel_initializer='he_uniform', padding='same'))\n",
        "  model.add(MaxPooling2D((2, 2)))\n",
        "\n",
        "  # example output part of the model\n",
        "  model.add(Flatten())\n",
        "  model.add(Dense(128, activation='relu', kernel_initializer='he_uniform'))\n",
        "  model.add(Dense(10, activation='softmax'))\n",
        "\n",
        "  return model"
      ],
      "id": "XhOFwTlUAF1h",
      "execution_count": null,
      "outputs": []
    },
    {
      "cell_type": "code",
      "metadata": {
        "id": "7DRCsgTeBEg8"
      },
      "source": [
        "model = define_model()"
      ],
      "id": "7DRCsgTeBEg8",
      "execution_count": null,
      "outputs": []
    },
    {
      "cell_type": "code",
      "metadata": {
        "colab": {
          "base_uri": "https://localhost:8080/"
        },
        "id": "mNM87aHvA89m",
        "outputId": "c2e22ba1-7a30-4af8-ffb7-1609f7e194c6"
      },
      "source": [
        "opt = SGD(lr=0.001, momentum=0.9)\n",
        "model.compile(optimizer=opt, loss='categorical_crossentropy', metrics=['accuracy'])"
      ],
      "id": "mNM87aHvA89m",
      "execution_count": null,
      "outputs": [
        {
          "name": "stderr",
          "output_type": "stream",
          "text": [
            "/usr/local/lib/python3.7/dist-packages/keras/optimizer_v2/optimizer_v2.py:356: UserWarning: The `lr` argument is deprecated, use `learning_rate` instead.\n",
            "  \"The `lr` argument is deprecated, use `learning_rate` instead.\")\n"
          ]
        }
      ]
    },
    {
      "cell_type": "code",
      "metadata": {
        "id": "Bv8W3L9FG9si"
      },
      "source": [
        "from tensorflow.keras.callbacks import EarlyStopping\n",
        "\n",
        "es = EarlyStopping(patience = 10, monitor = \"val_accuracy\", restore_best_weights = True)"
      ],
      "id": "Bv8W3L9FG9si",
      "execution_count": null,
      "outputs": []
    },
    {
      "cell_type": "code",
      "metadata": {
        "colab": {
          "background_save": true,
          "base_uri": "https://localhost:8080/"
        },
        "id": "c03sa6SXAXN6",
        "outputId": "a1f8dff1-97aa-4593-dddc-784bd99f7288"
      },
      "source": [
        "history = model.fit(data_im_2, data_lb, epochs=100, batch_size=64, validation_split=0.2, verbose=1, callbacks = [es])"
      ],
      "id": "c03sa6SXAXN6",
      "execution_count": null,
      "outputs": [
        {
          "name": "stdout",
          "output_type": "stream",
          "text": [
            "Epoch 1/100\n",
            "4/4 [==============================] - 121s 30s/step - loss: 4.0017 - accuracy: 0.1328 - val_loss: 3.9534 - val_accuracy: 0.0781\n",
            "Epoch 2/100\n",
            "4/4 [==============================] - 114s 29s/step - loss: 2.7254 - accuracy: 0.2852 - val_loss: 2.4454 - val_accuracy: 0.2656\n",
            "Epoch 3/100\n",
            "4/4 [==============================] - 115s 29s/step - loss: 2.2329 - accuracy: 0.3359 - val_loss: 2.2296 - val_accuracy: 0.2656\n",
            "Epoch 4/100\n",
            "4/4 [==============================] - 115s 29s/step - loss: 2.1132 - accuracy: 0.3164 - val_loss: 2.3262 - val_accuracy: 0.2656\n",
            "Epoch 5/100\n",
            "4/4 [==============================] - 113s 29s/step - loss: 2.0567 - accuracy: 0.3164 - val_loss: 2.2790 - val_accuracy: 0.2656\n",
            "Epoch 6/100\n",
            "4/4 [==============================] - 119s 31s/step - loss: 2.0156 - accuracy: 0.3164 - val_loss: 2.2439 - val_accuracy: 0.2656\n",
            "Epoch 7/100\n",
            "4/4 [==============================] - 114s 29s/step - loss: 1.9755 - accuracy: 0.3164 - val_loss: 2.2393 - val_accuracy: 0.2656\n",
            "Epoch 8/100\n",
            "4/4 [==============================] - 116s 30s/step - loss: 1.9335 - accuracy: 0.3203 - val_loss: 2.2221 - val_accuracy: 0.2812\n",
            "Epoch 9/100\n",
            "4/4 [==============================] - 114s 29s/step - loss: 1.8872 - accuracy: 0.3320 - val_loss: 2.2105 - val_accuracy: 0.2656\n",
            "Epoch 10/100\n",
            "4/4 [==============================] - 113s 29s/step - loss: 1.8222 - accuracy: 0.4297 - val_loss: 2.1852 - val_accuracy: 0.2656\n",
            "Epoch 11/100\n",
            "4/4 [==============================] - 113s 29s/step - loss: 1.7613 - accuracy: 0.4375 - val_loss: 2.1533 - val_accuracy: 0.3125\n",
            "Epoch 12/100\n",
            "4/4 [==============================] - 113s 29s/step - loss: 1.6991 - accuracy: 0.4727 - val_loss: 2.1086 - val_accuracy: 0.2656\n",
            "Epoch 13/100\n",
            "4/4 [==============================] - 115s 29s/step - loss: 1.6259 - accuracy: 0.4727 - val_loss: 2.0617 - val_accuracy: 0.2969\n",
            "Epoch 14/100\n",
            "4/4 [==============================] - 116s 29s/step - loss: 1.5529 - accuracy: 0.4609 - val_loss: 2.0803 - val_accuracy: 0.3281\n",
            "Epoch 15/100\n",
            "4/4 [==============================] - 114s 29s/step - loss: 1.4694 - accuracy: 0.5352 - val_loss: 2.0522 - val_accuracy: 0.3125\n",
            "Epoch 16/100\n",
            "4/4 [==============================] - 115s 29s/step - loss: 1.4314 - accuracy: 0.5273 - val_loss: 2.1498 - val_accuracy: 0.3125\n",
            "Epoch 17/100\n",
            "4/4 [==============================] - 114s 29s/step - loss: 1.3243 - accuracy: 0.5625 - val_loss: 2.0475 - val_accuracy: 0.2969\n",
            "Epoch 18/100\n",
            "4/4 [==============================] - 112s 29s/step - loss: 1.2469 - accuracy: 0.5977 - val_loss: 2.0107 - val_accuracy: 0.3438\n",
            "Epoch 19/100\n",
            "4/4 [==============================] - 113s 29s/step - loss: 1.2487 - accuracy: 0.6094 - val_loss: 2.1731 - val_accuracy: 0.2969\n",
            "Epoch 20/100\n",
            "4/4 [==============================] - 114s 29s/step - loss: 1.2349 - accuracy: 0.6094 - val_loss: 2.0822 - val_accuracy: 0.3750\n",
            "Epoch 21/100\n",
            "4/4 [==============================] - 114s 29s/step - loss: 1.0835 - accuracy: 0.6602 - val_loss: 2.0618 - val_accuracy: 0.3125\n",
            "Epoch 22/100\n",
            "4/4 [==============================] - 114s 29s/step - loss: 1.0146 - accuracy: 0.6680 - val_loss: 2.2796 - val_accuracy: 0.3125\n",
            "Epoch 23/100\n",
            "4/4 [==============================] - 113s 29s/step - loss: 0.9636 - accuracy: 0.7070 - val_loss: 2.3104 - val_accuracy: 0.2969\n",
            "Epoch 24/100\n",
            "4/4 [==============================] - 112s 29s/step - loss: 0.9303 - accuracy: 0.6953 - val_loss: 2.2277 - val_accuracy: 0.3438\n",
            "Epoch 25/100\n",
            "4/4 [==============================] - 113s 29s/step - loss: 0.8209 - accuracy: 0.7461 - val_loss: 2.8403 - val_accuracy: 0.3281\n",
            "Epoch 26/100\n",
            "4/4 [==============================] - 112s 29s/step - loss: 0.8906 - accuracy: 0.6797 - val_loss: 2.4370 - val_accuracy: 0.2969\n",
            "Epoch 27/100\n",
            "4/4 [==============================] - 112s 28s/step - loss: 0.8542 - accuracy: 0.7383 - val_loss: 2.3114 - val_accuracy: 0.3281\n",
            "Epoch 28/100\n",
            "4/4 [==============================] - 111s 28s/step - loss: 0.6699 - accuracy: 0.7656 - val_loss: 2.2205 - val_accuracy: 0.3906\n",
            "Epoch 29/100\n",
            "4/4 [==============================] - 118s 29s/step - loss: 0.5664 - accuracy: 0.8281 - val_loss: 2.1337 - val_accuracy: 0.3906\n",
            "Epoch 30/100\n",
            "4/4 [==============================] - 113s 29s/step - loss: 0.4516 - accuracy: 0.8633 - val_loss: 2.7052 - val_accuracy: 0.4062\n",
            "Epoch 31/100\n",
            "4/4 [==============================] - 115s 29s/step - loss: 0.4962 - accuracy: 0.8359 - val_loss: 2.4536 - val_accuracy: 0.3594\n",
            "Epoch 32/100\n",
            "4/4 [==============================] - 113s 29s/step - loss: 0.4088 - accuracy: 0.8789 - val_loss: 2.8927 - val_accuracy: 0.3906\n",
            "Epoch 33/100\n",
            "4/4 [==============================] - 115s 29s/step - loss: 0.3389 - accuracy: 0.8984 - val_loss: 2.8072 - val_accuracy: 0.4062\n",
            "Epoch 34/100\n",
            "4/4 [==============================] - 113s 29s/step - loss: 0.3318 - accuracy: 0.8984 - val_loss: 2.9697 - val_accuracy: 0.2969\n",
            "Epoch 35/100\n",
            "4/4 [==============================] - 112s 29s/step - loss: 0.3848 - accuracy: 0.8711 - val_loss: 2.6802 - val_accuracy: 0.4219\n",
            "Epoch 36/100\n",
            "4/4 [==============================] - 114s 29s/step - loss: 0.3773 - accuracy: 0.8516 - val_loss: 2.6131 - val_accuracy: 0.3906\n",
            "Epoch 37/100\n",
            "4/4 [==============================] - 113s 29s/step - loss: 0.2723 - accuracy: 0.9297 - val_loss: 2.9423 - val_accuracy: 0.3281\n",
            "Epoch 38/100\n",
            "4/4 [==============================] - 114s 29s/step - loss: 0.2104 - accuracy: 0.9336 - val_loss: 2.8082 - val_accuracy: 0.4062\n",
            "Epoch 39/100\n",
            "4/4 [==============================] - 113s 29s/step - loss: 0.1204 - accuracy: 0.9883 - val_loss: 3.2723 - val_accuracy: 0.4219\n",
            "Epoch 40/100\n",
            "4/4 [==============================] - 115s 29s/step - loss: 0.1179 - accuracy: 0.9766 - val_loss: 3.2701 - val_accuracy: 0.4219\n",
            "Epoch 41/100\n",
            "4/4 [==============================] - 114s 29s/step - loss: 0.0865 - accuracy: 0.9805 - val_loss: 3.1867 - val_accuracy: 0.4375\n",
            "Epoch 42/100\n",
            "4/4 [==============================] - 114s 29s/step - loss: 0.0822 - accuracy: 0.9805 - val_loss: 3.2096 - val_accuracy: 0.3906\n",
            "Epoch 43/100\n",
            "4/4 [==============================] - 112s 28s/step - loss: 0.0823 - accuracy: 0.9766 - val_loss: 3.1056 - val_accuracy: 0.3750\n",
            "Epoch 44/100\n",
            "4/4 [==============================] - 112s 29s/step - loss: 0.1701 - accuracy: 0.9375 - val_loss: 3.2226 - val_accuracy: 0.3594\n",
            "Epoch 45/100\n",
            "4/4 [==============================] - 113s 29s/step - loss: 0.1390 - accuracy: 0.9336 - val_loss: 3.1053 - val_accuracy: 0.3438\n",
            "Epoch 46/100\n",
            "4/4 [==============================] - 114s 29s/step - loss: 0.1032 - accuracy: 0.9805 - val_loss: 3.4925 - val_accuracy: 0.3594\n",
            "Epoch 47/100\n",
            "4/4 [==============================] - 112s 29s/step - loss: 0.1090 - accuracy: 0.9766 - val_loss: 3.0590 - val_accuracy: 0.4219\n",
            "Epoch 48/100\n",
            "4/4 [==============================] - 112s 28s/step - loss: 0.1179 - accuracy: 0.9609 - val_loss: 3.2256 - val_accuracy: 0.3750\n",
            "Epoch 49/100\n",
            "4/4 [==============================] - 113s 29s/step - loss: 0.1019 - accuracy: 0.9766 - val_loss: 3.4815 - val_accuracy: 0.3125\n",
            "Epoch 50/100\n",
            "4/4 [==============================] - 113s 29s/step - loss: 0.1311 - accuracy: 0.9688 - val_loss: 3.2249 - val_accuracy: 0.4219\n",
            "Epoch 51/100\n",
            "4/4 [==============================] - 113s 29s/step - loss: 0.0996 - accuracy: 0.9766 - val_loss: 3.7401 - val_accuracy: 0.4062\n"
          ]
        }
      ]
    }
  ]
}