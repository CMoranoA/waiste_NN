{
 "cells": [
  {
   "cell_type": "code",
   "execution_count": 154,
   "id": "31e6e2cc",
   "metadata": {},
   "outputs": [],
   "source": [
    "import pandas as pd\n",
    "import numpy as np\n",
    "import geopandas as gpd\n",
    "from geopy.geocoders import Nominatim"
   ]
  },
  {
   "cell_type": "code",
   "execution_count": 155,
   "id": "14603ecd",
   "metadata": {},
   "outputs": [
    {
     "data": {
      "text/html": [
       "<div>\n",
       "<style scoped>\n",
       "    .dataframe tbody tr th:only-of-type {\n",
       "        vertical-align: middle;\n",
       "    }\n",
       "\n",
       "    .dataframe tbody tr th {\n",
       "        vertical-align: top;\n",
       "    }\n",
       "\n",
       "    .dataframe thead th {\n",
       "        text-align: right;\n",
       "    }\n",
       "</style>\n",
       "<table border=\"1\" class=\"dataframe\">\n",
       "  <thead>\n",
       "    <tr style=\"text-align: right;\">\n",
       "      <th></th>\n",
       "      <th>Lat</th>\n",
       "      <th>Long</th>\n",
       "      <th>Lugar</th>\n",
       "      <th>Dirección</th>\n",
       "      <th>Barrio</th>\n",
       "      <th>Cooperativa</th>\n",
       "      <th>Día y Horario</th>\n",
       "      <th>hazardous (bateries, cds)</th>\n",
       "      <th>paper</th>\n",
       "      <th>cardboard</th>\n",
       "      <th>glass</th>\n",
       "      <th>metal</th>\n",
       "      <th>plastic</th>\n",
       "      <th>Tetra-brik</th>\n",
       "      <th>Telgopor</th>\n",
       "      <th>organics</th>\n",
       "      <th>electronics</th>\n",
       "      <th>clothes</th>\n",
       "    </tr>\n",
       "  </thead>\n",
       "  <tbody>\n",
       "    <tr>\n",
       "      <th>0</th>\n",
       "      <td>-34.567311</td>\n",
       "      <td>-58.464635</td>\n",
       "      <td>PLAZA CASTELLI</td>\n",
       "      <td>CONDE y JURAMENTO</td>\n",
       "      <td>BELGRANO</td>\n",
       "      <td>Cooperativa de Trabajo Amanecer de los Cartoneros</td>\n",
       "      <td>Martes a Sábado de 11 a 17 hs.</td>\n",
       "      <td>1</td>\n",
       "      <td>1</td>\n",
       "      <td>1</td>\n",
       "      <td>1</td>\n",
       "      <td>1</td>\n",
       "      <td>1</td>\n",
       "      <td>1</td>\n",
       "      <td>1</td>\n",
       "      <td>0</td>\n",
       "      <td>1</td>\n",
       "      <td>1</td>\n",
       "    </tr>\n",
       "    <tr>\n",
       "      <th>1</th>\n",
       "      <td>-34.589093</td>\n",
       "      <td>-58.424758</td>\n",
       "      <td>PLAZA ARMENIA</td>\n",
       "      <td>MALABIA y NICARAGUA</td>\n",
       "      <td>PALERMO</td>\n",
       "      <td>Cooperativa de Provisión de Servicios para Rec...</td>\n",
       "      <td>Martes a Sábado de 11 a 17 hs.</td>\n",
       "      <td>1</td>\n",
       "      <td>1</td>\n",
       "      <td>1</td>\n",
       "      <td>1</td>\n",
       "      <td>1</td>\n",
       "      <td>1</td>\n",
       "      <td>1</td>\n",
       "      <td>1</td>\n",
       "      <td>1</td>\n",
       "      <td>1</td>\n",
       "      <td>1</td>\n",
       "    </tr>\n",
       "  </tbody>\n",
       "</table>\n",
       "</div>"
      ],
      "text/plain": [
       "         Lat       Long           Lugar            Dirección    Barrio  \\\n",
       "0 -34.567311 -58.464635  PLAZA CASTELLI    CONDE y JURAMENTO  BELGRANO   \n",
       "1 -34.589093 -58.424758   PLAZA ARMENIA  MALABIA y NICARAGUA   PALERMO   \n",
       "\n",
       "                                         Cooperativa  \\\n",
       "0  Cooperativa de Trabajo Amanecer de los Cartoneros   \n",
       "1  Cooperativa de Provisión de Servicios para Rec...   \n",
       "\n",
       "                    Día y Horario  hazardous (bateries, cds)  paper  \\\n",
       "0  Martes a Sábado de 11 a 17 hs.                          1      1   \n",
       "1  Martes a Sábado de 11 a 17 hs.                          1      1   \n",
       "\n",
       "   cardboard  glass  metal  plastic  Tetra-brik  Telgopor  organics  \\\n",
       "0          1      1      1        1           1         1         0   \n",
       "1          1      1      1        1           1         1         1   \n",
       "\n",
       "   electronics  clothes  \n",
       "0            1        1  \n",
       "1            1        1  "
      ]
     },
     "execution_count": 155,
     "metadata": {},
     "output_type": "execute_result"
    }
   ],
   "source": [
    "data = pd.read_csv(\"/Users/cristobalmorano/code/nadiasalmen/waiste/raw_data/puntos-verdes_cleaned.csv\")\n",
    "data.head(2)"
   ]
  },
  {
   "cell_type": "code",
   "execution_count": 156,
   "id": "cf9314cf",
   "metadata": {},
   "outputs": [],
   "source": [
    "def minkowski_distance(lat_casa=\"latitud_casa\",\n",
    "                       long_casa=\"longitud_casa\",\n",
    "                       lat_punto=\"dropoff_latitude\",\n",
    "                       long_punto=\"dropoff_longitude\"):\n",
    "    x1 = long_casa\n",
    "    x2 = long_punto\n",
    "    y1 = lat_casa\n",
    "    y2 = lat_punto\n",
    "    return ((abs(x2 - x1) ** 2) + (abs(y2 - y1)) ** 2) ** (1 / 2)"
   ]
  },
  {
   "cell_type": "code",
   "execution_count": 157,
   "id": "27401fe2",
   "metadata": {},
   "outputs": [],
   "source": [
    "def locate_lat_long(direction):\n",
    "    geolocator = Nominatim(user_agent=\"example app\")\n",
    "    location = geolocator.geocode(f\"{direction}, Capital Federal, Argentina\").point\n",
    "    lat, long = location[0], location[1]\n",
    "    return (lat, long)"
   ]
  },
  {
   "cell_type": "code",
   "execution_count": 179,
   "id": "f1ae5396",
   "metadata": {},
   "outputs": [],
   "source": [
    "def calculate_minimun_distance(direction, material):\n",
    "    \n",
    "    if material == \"No reciclable\":\n",
    "        return (\"Material no reciclable.\")\n",
    "    \n",
    "    else:\n",
    "        # dirección casa\n",
    "        lat_d = locate_lat_long(direction)[0]\n",
    "        long_d = locate_lat_long(direction)[1]\n",
    "\n",
    "        #subset dataframe para dejar los que puntos que tienen la categoría de la foto y buscar lat y long\n",
    "        data_set = data[data[material] == 1]\n",
    "        lat_p = data_set[\"Lat\"]\n",
    "        long_p = data_set[\"Long\"]\n",
    "\n",
    "        #calcular distancias\n",
    "        distancias = []    \n",
    "        for i in range(data_latitud.shape[0]):\n",
    "            distancias.append(minkowski_distance(lat_casa = lat_d, long_casa = long_d, \n",
    "                                                    lat_punto = lat_p[i], long_punto = long_p[i]))\n",
    "            \n",
    "        return (data.iloc[distancias.index(min(distancias)), 2:7])"
   ]
  },
  {
   "cell_type": "code",
   "execution_count": 181,
   "id": "01865b39",
   "metadata": {},
   "outputs": [
    {
     "data": {
      "text/plain": [
       "Lugar                                                 PLAZA GUEMES\n",
       "Dirección                                        MEDRANO y CHARCAS\n",
       "Barrio                                                     PALERMO\n",
       "Cooperativa      Cooperativa de Provisión de Servicios para Rec...\n",
       "Día y Horario                       Martes a Sábado de 11 a 17 hs.\n",
       "Name: 20, dtype: object"
      ]
     },
     "execution_count": 181,
     "metadata": {},
     "output_type": "execute_result"
    }
   ],
   "source": [
    "calculate_minimun_distance(\"Gorriti 3665\", \"plastic\")"
   ]
  },
  {
   "cell_type": "code",
   "execution_count": null,
   "id": "b2f1eec9",
   "metadata": {},
   "outputs": [],
   "source": []
  }
 ],
 "metadata": {
  "kernelspec": {
   "display_name": "Python 3 (ipykernel)",
   "language": "python",
   "name": "python3"
  },
  "language_info": {
   "codemirror_mode": {
    "name": "ipython",
    "version": 3
   },
   "file_extension": ".py",
   "mimetype": "text/x-python",
   "name": "python",
   "nbconvert_exporter": "python",
   "pygments_lexer": "ipython3",
   "version": "3.8.6"
  },
  "toc": {
   "base_numbering": 1,
   "nav_menu": {},
   "number_sections": true,
   "sideBar": true,
   "skip_h1_title": false,
   "title_cell": "Table of Contents",
   "title_sidebar": "Contents",
   "toc_cell": false,
   "toc_position": {},
   "toc_section_display": true,
   "toc_window_display": false
  }
 },
 "nbformat": 4,
 "nbformat_minor": 5
}
