{
 "cells": [
  {
   "cell_type": "markdown",
   "id": "c49d271f",
   "metadata": {},
   "source": [
    "## Imports"
   ]
  },
  {
   "cell_type": "code",
   "execution_count": 30,
   "id": "275df669",
   "metadata": {},
   "outputs": [],
   "source": [
    "from tensorflow.keras.utils import image_dataset_from_directory\n",
    "import tensorflow as tf\n",
    "import numpy as np\n",
    "from sklearn.model_selection import train_test_split\n",
    "from tensorflow.keras.applications import inception_resnet_v2\n",
    "import matplotlib.pyplot as plt\n",
    "from tensorflow.keras import Input\n",
    "from tensorflow.keras.models import Sequential\n",
    "from tensorflow.keras.layers import MaxPooling2D, MaxPool2D, Conv2D, Dense, Flatten, Dropout\n",
    "from tensorflow.keras.callbacks import EarlyStopping\n",
    "import pickle"
   ]
  },
  {
   "cell_type": "markdown",
   "id": "e050558b",
   "metadata": {},
   "source": [
    "## Load Data"
   ]
  },
  {
   "cell_type": "code",
   "execution_count": 31,
   "id": "e9184062",
   "metadata": {},
   "outputs": [],
   "source": [
    "# Data from google colab\n",
    "#from google.colab import drive\n",
    "#drive.mount('/content/gdrive')"
   ]
  },
  {
   "cell_type": "code",
   "execution_count": 32,
   "id": "325d67d9",
   "metadata": {},
   "outputs": [
    {
     "name": "stdout",
     "output_type": "stream",
     "text": [
      "Found 22610 files belonging to 10 classes.\n"
     ]
    }
   ],
   "source": [
    "#Import from local repository\n",
    "\n",
    "data = image_dataset_from_directory(\"/Users/cristobalmorano/code/nadiasalmen/waiste/waiste/data\", \n",
    "                             labels='inferred', label_mode='categorical', class_names=None, color_mode='rgb',\n",
    "                             batch_size=32, image_size=(128, 128), shuffle=True, seed=None,\n",
    "                             validation_split=None, subset=None, interpolation='bilinear', follow_links=False,\n",
    "                             crop_to_aspect_ratio=False)"
   ]
  },
  {
   "cell_type": "code",
   "execution_count": 33,
   "id": "e34cda6c",
   "metadata": {},
   "outputs": [
    {
     "name": "stderr",
     "output_type": "stream",
     "text": [
      "2021-09-28 20:23:20.369471: W tensorflow/core/lib/png/png_io.cc:88] PNG warning: iCCP: known incorrect sRGB profile\n"
     ]
    }
   ],
   "source": [
    "#Take number of images according to batch size\n",
    "\n",
    "data_sample = data.take(70)\n",
    "\n",
    "data_im = []\n",
    "data_lb = []\n",
    "\n",
    "for im, lb in data_sample:\n",
    "    data_im.append(im)\n",
    "    data_lb.append(lb)"
   ]
  },
  {
   "cell_type": "code",
   "execution_count": 34,
   "id": "cf77cfaa",
   "metadata": {},
   "outputs": [],
   "source": [
    "#Normalize image tensors (0 - 1)\n",
    "\n",
    "def norma_2(image):\n",
    "    image = tf.cast(image/255, tf.float32)\n",
    "    return image\n",
    "\n",
    "data_im_2 = [norma_2(image) for image in data_im]"
   ]
  },
  {
   "cell_type": "code",
   "execution_count": 35,
   "id": "73888b4b",
   "metadata": {},
   "outputs": [],
   "source": [
    "#Convert X and y to numpy arrays\n",
    "\n",
    "data_im_2 = np.array(data_im_2)\n",
    "data_lb = np.array(data_lb)"
   ]
  },
  {
   "cell_type": "code",
   "execution_count": 36,
   "id": "214bf308",
   "metadata": {},
   "outputs": [],
   "source": [
    "#Reshape for model\n",
    "\n",
    "data_im_2 = data_im_2.reshape(-1, 128, 128, 3)\n",
    "data_lb = data_lb.reshape(-1, 10)"
   ]
  },
  {
   "cell_type": "code",
   "execution_count": 37,
   "id": "fff0e0e0",
   "metadata": {},
   "outputs": [],
   "source": [
    "# Split the data\n",
    "\n",
    "train_X, test_X, train_y, test_y = train_test_split(data_im_2, data_lb, test_size=0.2, random_state=42)"
   ]
  },
  {
   "cell_type": "markdown",
   "id": "61d1d702",
   "metadata": {},
   "source": [
    "## Build model"
   ]
  },
  {
   "cell_type": "code",
   "execution_count": 38,
   "id": "7d5255e3",
   "metadata": {},
   "outputs": [],
   "source": [
    "#Import InceptionResNetV2\n",
    "\n",
    "inception_resnet_v2 = inception_resnet_v2.InceptionResNetV2(include_top=False, \n",
    "                                                            weights=\"imagenet\", input_tensor=None, \n",
    "                                                            input_shape=(128, 128, 3), pooling=None, \n",
    "                                                            classifier_activation='softmax')"
   ]
  },
  {
   "cell_type": "code",
   "execution_count": 39,
   "id": "022f2083",
   "metadata": {},
   "outputs": [],
   "source": [
    "inception_resnet_v2.trainable = False"
   ]
  },
  {
   "cell_type": "code",
   "execution_count": 43,
   "id": "79472a37",
   "metadata": {},
   "outputs": [],
   "source": [
    "def init_model():\n",
    "    model = Sequential()\n",
    "    model.add(Input(shape=(128, 128, 3)))\n",
    "    \n",
    "    model.add(inception_resnet_v2)\n",
    "    \n",
    "    model.add(Conv2D(32, (4,4), padding='same', activation=\"relu\"))\n",
    "    model.add(MaxPool2D(pool_size=(4, 4), padding='same'))\n",
    "    model.add(Dropout(0.3))   \n",
    "    \n",
    "    model.add(Conv2D(16, (3,3), padding='same', activation=\"relu\"))\n",
    "    model.add(MaxPool2D(pool_size=(2,2), padding='same'))\n",
    "    model.add(Dropout(0.2))\n",
    "    \n",
    "    model.add(Flatten())\n",
    "    \n",
    "    model.add(Dense(50, activation='relu'))\n",
    "    model.add(Dropout(0.2))\n",
    "    model.add(Dense(10, activation='softmax'))\n",
    "    \n",
    "    model.compile(loss='categorical_crossentropy', optimizer='adam', metrics=[\"accuracy\"])\n",
    "    return model"
   ]
  },
  {
   "cell_type": "code",
   "execution_count": 44,
   "id": "eba98c18",
   "metadata": {},
   "outputs": [],
   "source": [
    "model = init_model()"
   ]
  },
  {
   "cell_type": "code",
   "execution_count": 45,
   "id": "90a857ee",
   "metadata": {},
   "outputs": [
    {
     "name": "stdout",
     "output_type": "stream",
     "text": [
      "Model: \"sequential_5\"\n",
      "_________________________________________________________________\n",
      "Layer (type)                 Output Shape              Param #   \n",
      "=================================================================\n",
      "inception_resnet_v2 (Functio (None, 2, 2, 1536)        54336736  \n",
      "_________________________________________________________________\n",
      "conv2d_426 (Conv2D)          (None, 2, 2, 32)          786464    \n",
      "_________________________________________________________________\n",
      "max_pooling2d_27 (MaxPooling (None, 1, 1, 32)          0         \n",
      "_________________________________________________________________\n",
      "dropout_24 (Dropout)         (None, 1, 1, 32)          0         \n",
      "_________________________________________________________________\n",
      "conv2d_427 (Conv2D)          (None, 1, 1, 16)          4624      \n",
      "_________________________________________________________________\n",
      "max_pooling2d_28 (MaxPooling (None, 1, 1, 16)          0         \n",
      "_________________________________________________________________\n",
      "dropout_25 (Dropout)         (None, 1, 1, 16)          0         \n",
      "_________________________________________________________________\n",
      "flatten_5 (Flatten)          (None, 16)                0         \n",
      "_________________________________________________________________\n",
      "dense_15 (Dense)             (None, 50)                850       \n",
      "_________________________________________________________________\n",
      "dropout_26 (Dropout)         (None, 50)                0         \n",
      "_________________________________________________________________\n",
      "dense_16 (Dense)             (None, 10)                510       \n",
      "=================================================================\n",
      "Total params: 55,129,184\n",
      "Trainable params: 792,448\n",
      "Non-trainable params: 54,336,736\n",
      "_________________________________________________________________\n"
     ]
    }
   ],
   "source": [
    "model.summary()"
   ]
  },
  {
   "cell_type": "code",
   "execution_count": 46,
   "id": "5bb8de23",
   "metadata": {},
   "outputs": [],
   "source": [
    "es = EarlyStopping(patience = 25, monitor='val_loss' , min_delta=0.001, restore_best_weights = True)"
   ]
  },
  {
   "cell_type": "code",
   "execution_count": 47,
   "id": "3cf88153",
   "metadata": {},
   "outputs": [
    {
     "name": "stdout",
     "output_type": "stream",
     "text": [
      "Epoch 1/500\n",
      "20/20 [==============================] - 67s 3s/step - loss: 2.2881 - accuracy: 0.1611 - val_loss: 2.1055 - val_accuracy: 0.3086\n",
      "Epoch 2/500\n",
      "20/20 [==============================] - 53s 3s/step - loss: 2.0999 - accuracy: 0.2185 - val_loss: 1.9789 - val_accuracy: 0.3699\n",
      "Epoch 3/500\n",
      "20/20 [==============================] - 53s 3s/step - loss: 1.9417 - accuracy: 0.3054 - val_loss: 1.8206 - val_accuracy: 0.4665\n",
      "Epoch 4/500\n",
      "20/20 [==============================] - 87s 4s/step - loss: 1.8065 - accuracy: 0.3724 - val_loss: 1.6978 - val_accuracy: 0.4647\n",
      "Epoch 5/500\n",
      "20/20 [==============================] - 63s 3s/step - loss: 1.6768 - accuracy: 0.4219 - val_loss: 1.5341 - val_accuracy: 0.5093\n",
      "Epoch 6/500\n",
      "20/20 [==============================] - 60s 3s/step - loss: 1.5037 - accuracy: 0.4936 - val_loss: 1.3883 - val_accuracy: 0.5874\n",
      "Epoch 7/500\n",
      "20/20 [==============================] - 57s 3s/step - loss: 1.3979 - accuracy: 0.5263 - val_loss: 1.3681 - val_accuracy: 0.5967\n",
      "Epoch 8/500\n",
      "20/20 [==============================] - 58s 3s/step - loss: 1.3305 - accuracy: 0.5614 - val_loss: 1.3523 - val_accuracy: 0.5911\n",
      "Epoch 9/500\n",
      "20/20 [==============================] - 61s 3s/step - loss: 1.2903 - accuracy: 0.5670 - val_loss: 1.3270 - val_accuracy: 0.5967\n",
      "Epoch 10/500\n",
      "20/20 [==============================] - 63s 3s/step - loss: 1.2311 - accuracy: 0.6005 - val_loss: 1.2854 - val_accuracy: 0.6097\n",
      "Epoch 11/500\n",
      "20/20 [==============================] - 62s 3s/step - loss: 1.1897 - accuracy: 0.6029 - val_loss: 1.2163 - val_accuracy: 0.6283\n",
      "Epoch 12/500\n",
      "20/20 [==============================] - 57s 3s/step - loss: 1.0643 - accuracy: 0.6380 - val_loss: 1.2384 - val_accuracy: 0.6152\n",
      "Epoch 13/500\n",
      "20/20 [==============================] - 60s 3s/step - loss: 1.0561 - accuracy: 0.6523 - val_loss: 1.2190 - val_accuracy: 0.6190\n",
      "Epoch 14/500\n",
      "20/20 [==============================] - 60s 3s/step - loss: 1.0076 - accuracy: 0.6635 - val_loss: 1.2983 - val_accuracy: 0.6171\n",
      "Epoch 15/500\n",
      "20/20 [==============================] - 58s 3s/step - loss: 0.9543 - accuracy: 0.6834 - val_loss: 1.2696 - val_accuracy: 0.6245\n",
      "Epoch 16/500\n",
      "20/20 [==============================] - 72s 4s/step - loss: 1.0281 - accuracy: 0.6595 - val_loss: 1.2011 - val_accuracy: 0.6357\n",
      "Epoch 17/500\n",
      "20/20 [==============================] - 76s 4s/step - loss: 0.9351 - accuracy: 0.6874 - val_loss: 1.2690 - val_accuracy: 0.6543\n",
      "Epoch 18/500\n",
      "20/20 [==============================] - 59s 3s/step - loss: 0.8666 - accuracy: 0.7057 - val_loss: 1.2468 - val_accuracy: 0.6320\n",
      "Epoch 19/500\n",
      "20/20 [==============================] - 60s 3s/step - loss: 0.8566 - accuracy: 0.7129 - val_loss: 1.2649 - val_accuracy: 0.6394\n",
      "Epoch 20/500\n",
      "20/20 [==============================] - 67s 3s/step - loss: 0.8627 - accuracy: 0.7113 - val_loss: 1.3077 - val_accuracy: 0.6283\n",
      "Epoch 21/500\n",
      "20/20 [==============================] - 60s 3s/step - loss: 0.8214 - accuracy: 0.7233 - val_loss: 1.3702 - val_accuracy: 0.6227\n",
      "Epoch 22/500\n",
      "20/20 [==============================] - 63s 3s/step - loss: 0.8112 - accuracy: 0.7241 - val_loss: 1.2728 - val_accuracy: 0.6227\n",
      "Epoch 23/500\n",
      "20/20 [==============================] - 58s 3s/step - loss: 0.7553 - accuracy: 0.7552 - val_loss: 1.2467 - val_accuracy: 0.6431\n",
      "Epoch 24/500\n",
      "20/20 [==============================] - 58s 3s/step - loss: 0.7400 - accuracy: 0.7456 - val_loss: 1.3172 - val_accuracy: 0.6431\n",
      "Epoch 25/500\n",
      "20/20 [==============================] - 60s 3s/step - loss: 0.6725 - accuracy: 0.7663 - val_loss: 1.3574 - val_accuracy: 0.6468\n",
      "Epoch 26/500\n",
      "20/20 [==============================] - 76s 4s/step - loss: 0.6794 - accuracy: 0.7640 - val_loss: 1.2999 - val_accuracy: 0.6524\n",
      "Epoch 27/500\n",
      "20/20 [==============================] - 59s 3s/step - loss: 0.6742 - accuracy: 0.7544 - val_loss: 1.4142 - val_accuracy: 0.6450\n",
      "Epoch 28/500\n",
      "20/20 [==============================] - 60s 3s/step - loss: 0.6106 - accuracy: 0.7863 - val_loss: 1.3597 - val_accuracy: 0.6487\n",
      "Epoch 29/500\n",
      "20/20 [==============================] - 56s 3s/step - loss: 0.6066 - accuracy: 0.7839 - val_loss: 1.3320 - val_accuracy: 0.6691\n",
      "Epoch 30/500\n",
      "20/20 [==============================] - 65s 3s/step - loss: 0.6153 - accuracy: 0.7815 - val_loss: 1.3514 - val_accuracy: 0.6636\n",
      "Epoch 31/500\n",
      "20/20 [==============================] - 63s 3s/step - loss: 0.5629 - accuracy: 0.7959 - val_loss: 1.4489 - val_accuracy: 0.6673\n",
      "Epoch 32/500\n",
      "20/20 [==============================] - 68s 3s/step - loss: 0.5756 - accuracy: 0.7911 - val_loss: 1.4813 - val_accuracy: 0.6617\n",
      "Epoch 33/500\n",
      "20/20 [==============================] - 67s 3s/step - loss: 0.5870 - accuracy: 0.7951 - val_loss: 1.5132 - val_accuracy: 0.6357\n",
      "Epoch 34/500\n",
      "20/20 [==============================] - 60s 3s/step - loss: 0.5778 - accuracy: 0.7951 - val_loss: 1.4357 - val_accuracy: 0.6524\n",
      "Epoch 35/500\n",
      "20/20 [==============================] - 65s 3s/step - loss: 0.5355 - accuracy: 0.8022 - val_loss: 1.4121 - val_accuracy: 0.6654\n",
      "Epoch 36/500\n",
      "20/20 [==============================] - 59s 3s/step - loss: 0.5250 - accuracy: 0.8094 - val_loss: 1.4796 - val_accuracy: 0.6468\n",
      "Epoch 37/500\n",
      "20/20 [==============================] - 56s 3s/step - loss: 0.5359 - accuracy: 0.8030 - val_loss: 1.5289 - val_accuracy: 0.6431\n",
      "Epoch 38/500\n",
      "20/20 [==============================] - 58s 3s/step - loss: 0.5099 - accuracy: 0.8190 - val_loss: 1.5251 - val_accuracy: 0.6636\n",
      "Epoch 39/500\n",
      "20/20 [==============================] - 59s 3s/step - loss: 0.5121 - accuracy: 0.8086 - val_loss: 1.6255 - val_accuracy: 0.6394\n",
      "Epoch 40/500\n",
      "20/20 [==============================] - 63s 3s/step - loss: 0.4963 - accuracy: 0.8214 - val_loss: 1.5238 - val_accuracy: 0.6822\n",
      "Epoch 41/500\n",
      "20/20 [==============================] - 66s 3s/step - loss: 0.4901 - accuracy: 0.8349 - val_loss: 1.5954 - val_accuracy: 0.6543\n"
     ]
    }
   ],
   "source": [
    "history = model.fit(train_X, train_y, validation_split = 0.3, \n",
    "                    callbacks = [es], batch_size = 64, \n",
    "                    epochs = 500, verbose = 1)"
   ]
  },
  {
   "cell_type": "code",
   "execution_count": null,
   "id": "fcfbeaef",
   "metadata": {},
   "outputs": [],
   "source": [
    "def summarize_diagnostics(history):\n",
    "    # plot loss\n",
    "    plt.figure(figsize=(10, 15))\n",
    "    plt.subplot(211)\n",
    "    plt.title('Cross Entropy Loss')\n",
    "    plt.plot(history.history['loss'], color='blue', label='train')\n",
    "    plt.plot(history.history['val_loss'], color='orange', label='test')\n",
    "    plt.legend()\n",
    "    # plot accuracy\n",
    "    plt.subplot(212)\n",
    "    plt.title('Classification Accuracy')\n",
    "    plt.plot(history.history['accuracy'], color='blue', label='train')\n",
    "    plt.plot(history.history['val_accuracy'], color='orange', label='test')\n",
    "    plt.legend()"
   ]
  },
  {
   "cell_type": "code",
   "execution_count": null,
   "id": "ff1a8816",
   "metadata": {},
   "outputs": [],
   "source": [
    "summarize_diagnostics(history)"
   ]
  },
  {
   "cell_type": "code",
   "execution_count": null,
   "id": "f705c693",
   "metadata": {},
   "outputs": [],
   "source": [
    "scores = model.evaluate(test_X, test_y, verbose=1)"
   ]
  },
  {
   "cell_type": "code",
   "execution_count": null,
   "id": "723d06fe",
   "metadata": {},
   "outputs": [],
   "source": [
    "tf.keras.models.save_model(\n",
    "    model, filepath, overwrite=True, include_optimizer=True, save_format=None,\n",
    "    signatures=None, options=None, save_traces=True\n",
    ")"
   ]
  }
 ],
 "metadata": {
  "kernelspec": {
   "display_name": "Python 3 (ipykernel)",
   "language": "python",
   "name": "python3"
  },
  "language_info": {
   "codemirror_mode": {
    "name": "ipython",
    "version": 3
   },
   "file_extension": ".py",
   "mimetype": "text/x-python",
   "name": "python",
   "nbconvert_exporter": "python",
   "pygments_lexer": "ipython3",
   "version": "3.8.6"
  },
  "toc": {
   "base_numbering": 1,
   "nav_menu": {},
   "number_sections": true,
   "sideBar": true,
   "skip_h1_title": false,
   "title_cell": "Table of Contents",
   "title_sidebar": "Contents",
   "toc_cell": false,
   "toc_position": {},
   "toc_section_display": true,
   "toc_window_display": false
  }
 },
 "nbformat": 4,
 "nbformat_minor": 5
}
